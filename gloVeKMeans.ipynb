{
 "cells": [
  {
   "cell_type": "markdown",
   "id": "f226cfe4",
   "metadata": {},
   "source": [
    "<h1>Import libraries</h1>"
   ]
  },
  {
   "cell_type": "code",
   "execution_count": 1,
   "id": "c30dd70e",
   "metadata": {},
   "outputs": [],
   "source": [
    "import pandas as pd\n",
    "import re\n",
    "import numpy as np\n",
    "from tensorflow.keras.preprocessing.text import Tokenizer\n",
    "from tensorflow.keras.preprocessing.sequence import pad_sequences\n",
    "from sklearn.cluster import KMeans\n",
    "import matplotlib.pyplot as plt\n",
    "from sklearn.metrics import accuracy_score"
   ]
  },
  {
   "cell_type": "markdown",
   "id": "41a21c04",
   "metadata": {},
   "source": [
    "<h1>Declare global variables</h1>"
   ]
  },
  {
   "cell_type": "code",
   "execution_count": 2,
   "id": "f4c4728a",
   "metadata": {},
   "outputs": [],
   "source": [
    "MAX_FEATURES = 58439  # size of word index, set to the number of unique words in dataset\n",
    "EMBEDDING_DIM = 200\n",
    "MAX_LEN = 30  # average size of twitter text as used in the paper"
   ]
  },
  {
   "cell_type": "markdown",
   "id": "998ab2d2",
   "metadata": {},
   "source": [
    "<h1>Read csv</h1>"
   ]
  },
  {
   "cell_type": "code",
   "execution_count": 3,
   "id": "99ece457",
   "metadata": {},
   "outputs": [
    {
     "data": {
      "text/html": [
       "<div>\n",
       "<style scoped>\n",
       "    .dataframe tbody tr th:only-of-type {\n",
       "        vertical-align: middle;\n",
       "    }\n",
       "\n",
       "    .dataframe tbody tr th {\n",
       "        vertical-align: top;\n",
       "    }\n",
       "\n",
       "    .dataframe thead th {\n",
       "        text-align: right;\n",
       "    }\n",
       "</style>\n",
       "<table border=\"1\" class=\"dataframe\">\n",
       "  <thead>\n",
       "    <tr style=\"text-align: right;\">\n",
       "      <th></th>\n",
       "      <th>Tweet text</th>\n",
       "      <th>Label</th>\n",
       "      <th>Votes for the majority label</th>\n",
       "    </tr>\n",
       "  </thead>\n",
       "  <tbody>\n",
       "    <tr>\n",
       "      <th>0</th>\n",
       "      <td>Beats by Dr. Dre urBeats Wired In-Ear Headphon...</td>\n",
       "      <td>spam</td>\n",
       "      <td>4</td>\n",
       "    </tr>\n",
       "    <tr>\n",
       "      <th>1</th>\n",
       "      <td>RT @Papapishu: Man it would fucking rule if we...</td>\n",
       "      <td>abusive</td>\n",
       "      <td>4</td>\n",
       "    </tr>\n",
       "    <tr>\n",
       "      <th>2</th>\n",
       "      <td>It is time to draw close to Him &amp;#128591;&amp;#127...</td>\n",
       "      <td>normal</td>\n",
       "      <td>4</td>\n",
       "    </tr>\n",
       "    <tr>\n",
       "      <th>3</th>\n",
       "      <td>if you notice me start to act different or dis...</td>\n",
       "      <td>normal</td>\n",
       "      <td>5</td>\n",
       "    </tr>\n",
       "    <tr>\n",
       "      <th>4</th>\n",
       "      <td>Forget unfollowers, I believe in growing. 7 ne...</td>\n",
       "      <td>normal</td>\n",
       "      <td>3</td>\n",
       "    </tr>\n",
       "    <tr>\n",
       "      <th>...</th>\n",
       "      <td>...</td>\n",
       "      <td>...</td>\n",
       "      <td>...</td>\n",
       "    </tr>\n",
       "    <tr>\n",
       "      <th>99991</th>\n",
       "      <td>RT @shangros: my fucking queen https://t.co/wa...</td>\n",
       "      <td>abusive</td>\n",
       "      <td>5</td>\n",
       "    </tr>\n",
       "    <tr>\n",
       "      <th>99992</th>\n",
       "      <td>#Osteporosis treated with #PEMF - rebuild bone...</td>\n",
       "      <td>normal</td>\n",
       "      <td>3</td>\n",
       "    </tr>\n",
       "    <tr>\n",
       "      <th>99993</th>\n",
       "      <td>@LGUSAMobile why does my phone screen keeps fl...</td>\n",
       "      <td>normal</td>\n",
       "      <td>3</td>\n",
       "    </tr>\n",
       "    <tr>\n",
       "      <th>99994</th>\n",
       "      <td>#bigdata vs. #reality ... but equally applies ...</td>\n",
       "      <td>normal</td>\n",
       "      <td>5</td>\n",
       "    </tr>\n",
       "    <tr>\n",
       "      <th>99995</th>\n",
       "      <td>you can do whatever you choose, if you first g...</td>\n",
       "      <td>normal</td>\n",
       "      <td>5</td>\n",
       "    </tr>\n",
       "  </tbody>\n",
       "</table>\n",
       "<p>99996 rows × 3 columns</p>\n",
       "</div>"
      ],
      "text/plain": [
       "                                              Tweet text    Label  \\\n",
       "0      Beats by Dr. Dre urBeats Wired In-Ear Headphon...     spam   \n",
       "1      RT @Papapishu: Man it would fucking rule if we...  abusive   \n",
       "2      It is time to draw close to Him &#128591;&#127...   normal   \n",
       "3      if you notice me start to act different or dis...   normal   \n",
       "4      Forget unfollowers, I believe in growing. 7 ne...   normal   \n",
       "...                                                  ...      ...   \n",
       "99991  RT @shangros: my fucking queen https://t.co/wa...  abusive   \n",
       "99992  #Osteporosis treated with #PEMF - rebuild bone...   normal   \n",
       "99993  @LGUSAMobile why does my phone screen keeps fl...   normal   \n",
       "99994  #bigdata vs. #reality ... but equally applies ...   normal   \n",
       "99995  you can do whatever you choose, if you first g...   normal   \n",
       "\n",
       "       Votes for the majority label  \n",
       "0                                 4  \n",
       "1                                 4  \n",
       "2                                 4  \n",
       "3                                 5  \n",
       "4                                 3  \n",
       "...                             ...  \n",
       "99991                             5  \n",
       "99992                             3  \n",
       "99993                             3  \n",
       "99994                             5  \n",
       "99995                             5  \n",
       "\n",
       "[99996 rows x 3 columns]"
      ]
     },
     "execution_count": 3,
     "metadata": {},
     "output_type": "execute_result"
    }
   ],
   "source": [
    "df = pd.read_csv('tweets.csv')\n",
    "df"
   ]
  },
  {
   "cell_type": "markdown",
   "id": "e33ba8ba",
   "metadata": {},
   "source": [
    "<h1>Drop spam labeled tweets and reset index</h1>"
   ]
  },
  {
   "cell_type": "code",
   "execution_count": 4,
   "id": "27aada1b",
   "metadata": {},
   "outputs": [
    {
     "data": {
      "text/html": [
       "<div>\n",
       "<style scoped>\n",
       "    .dataframe tbody tr th:only-of-type {\n",
       "        vertical-align: middle;\n",
       "    }\n",
       "\n",
       "    .dataframe tbody tr th {\n",
       "        vertical-align: top;\n",
       "    }\n",
       "\n",
       "    .dataframe thead th {\n",
       "        text-align: right;\n",
       "    }\n",
       "</style>\n",
       "<table border=\"1\" class=\"dataframe\">\n",
       "  <thead>\n",
       "    <tr style=\"text-align: right;\">\n",
       "      <th></th>\n",
       "      <th>Tweet text</th>\n",
       "      <th>Label</th>\n",
       "      <th>Votes for the majority label</th>\n",
       "    </tr>\n",
       "  </thead>\n",
       "  <tbody>\n",
       "    <tr>\n",
       "      <th>0</th>\n",
       "      <td>RT @Papapishu: Man it would fucking rule if we...</td>\n",
       "      <td>abusive</td>\n",
       "      <td>4</td>\n",
       "    </tr>\n",
       "    <tr>\n",
       "      <th>1</th>\n",
       "      <td>It is time to draw close to Him &amp;#128591;&amp;#127...</td>\n",
       "      <td>normal</td>\n",
       "      <td>4</td>\n",
       "    </tr>\n",
       "    <tr>\n",
       "      <th>2</th>\n",
       "      <td>if you notice me start to act different or dis...</td>\n",
       "      <td>normal</td>\n",
       "      <td>5</td>\n",
       "    </tr>\n",
       "    <tr>\n",
       "      <th>3</th>\n",
       "      <td>Forget unfollowers, I believe in growing. 7 ne...</td>\n",
       "      <td>normal</td>\n",
       "      <td>3</td>\n",
       "    </tr>\n",
       "    <tr>\n",
       "      <th>4</th>\n",
       "      <td>RT @Vitiligoprince: Hate Being sexually Frustr...</td>\n",
       "      <td>abusive</td>\n",
       "      <td>4</td>\n",
       "    </tr>\n",
       "    <tr>\n",
       "      <th>...</th>\n",
       "      <td>...</td>\n",
       "      <td>...</td>\n",
       "      <td>...</td>\n",
       "    </tr>\n",
       "    <tr>\n",
       "      <th>85961</th>\n",
       "      <td>RT @shangros: my fucking queen https://t.co/wa...</td>\n",
       "      <td>abusive</td>\n",
       "      <td>5</td>\n",
       "    </tr>\n",
       "    <tr>\n",
       "      <th>85962</th>\n",
       "      <td>#Osteporosis treated with #PEMF - rebuild bone...</td>\n",
       "      <td>normal</td>\n",
       "      <td>3</td>\n",
       "    </tr>\n",
       "    <tr>\n",
       "      <th>85963</th>\n",
       "      <td>@LGUSAMobile why does my phone screen keeps fl...</td>\n",
       "      <td>normal</td>\n",
       "      <td>3</td>\n",
       "    </tr>\n",
       "    <tr>\n",
       "      <th>85964</th>\n",
       "      <td>#bigdata vs. #reality ... but equally applies ...</td>\n",
       "      <td>normal</td>\n",
       "      <td>5</td>\n",
       "    </tr>\n",
       "    <tr>\n",
       "      <th>85965</th>\n",
       "      <td>you can do whatever you choose, if you first g...</td>\n",
       "      <td>normal</td>\n",
       "      <td>5</td>\n",
       "    </tr>\n",
       "  </tbody>\n",
       "</table>\n",
       "<p>85966 rows × 3 columns</p>\n",
       "</div>"
      ],
      "text/plain": [
       "                                              Tweet text    Label  \\\n",
       "0      RT @Papapishu: Man it would fucking rule if we...  abusive   \n",
       "1      It is time to draw close to Him &#128591;&#127...   normal   \n",
       "2      if you notice me start to act different or dis...   normal   \n",
       "3      Forget unfollowers, I believe in growing. 7 ne...   normal   \n",
       "4      RT @Vitiligoprince: Hate Being sexually Frustr...  abusive   \n",
       "...                                                  ...      ...   \n",
       "85961  RT @shangros: my fucking queen https://t.co/wa...  abusive   \n",
       "85962  #Osteporosis treated with #PEMF - rebuild bone...   normal   \n",
       "85963  @LGUSAMobile why does my phone screen keeps fl...   normal   \n",
       "85964  #bigdata vs. #reality ... but equally applies ...   normal   \n",
       "85965  you can do whatever you choose, if you first g...   normal   \n",
       "\n",
       "       Votes for the majority label  \n",
       "0                                 4  \n",
       "1                                 4  \n",
       "2                                 5  \n",
       "3                                 3  \n",
       "4                                 4  \n",
       "...                             ...  \n",
       "85961                             5  \n",
       "85962                             3  \n",
       "85963                             3  \n",
       "85964                             5  \n",
       "85965                             5  \n",
       "\n",
       "[85966 rows x 3 columns]"
      ]
     },
     "execution_count": 4,
     "metadata": {},
     "output_type": "execute_result"
    }
   ],
   "source": [
    "df = df[df['Label'] != \"spam\"].dropna()\n",
    "df = df.reset_index(drop=True)\n",
    "df"
   ]
  },
  {
   "cell_type": "markdown",
   "id": "f949aedd",
   "metadata": {},
   "source": [
    "<h1>Combining abusive and hateful tweets to one labeled, named harmful</h1>"
   ]
  },
  {
   "cell_type": "code",
   "execution_count": 5,
   "id": "e1a9412d",
   "metadata": {},
   "outputs": [
    {
     "data": {
      "text/html": [
       "<div>\n",
       "<style scoped>\n",
       "    .dataframe tbody tr th:only-of-type {\n",
       "        vertical-align: middle;\n",
       "    }\n",
       "\n",
       "    .dataframe tbody tr th {\n",
       "        vertical-align: top;\n",
       "    }\n",
       "\n",
       "    .dataframe thead th {\n",
       "        text-align: right;\n",
       "    }\n",
       "</style>\n",
       "<table border=\"1\" class=\"dataframe\">\n",
       "  <thead>\n",
       "    <tr style=\"text-align: right;\">\n",
       "      <th></th>\n",
       "      <th>Tweet text</th>\n",
       "      <th>Label</th>\n",
       "      <th>Votes for the majority label</th>\n",
       "    </tr>\n",
       "  </thead>\n",
       "  <tbody>\n",
       "    <tr>\n",
       "      <th>0</th>\n",
       "      <td>RT @Papapishu: Man it would fucking rule if we...</td>\n",
       "      <td>harmful</td>\n",
       "      <td>4</td>\n",
       "    </tr>\n",
       "    <tr>\n",
       "      <th>1</th>\n",
       "      <td>It is time to draw close to Him &amp;#128591;&amp;#127...</td>\n",
       "      <td>normal</td>\n",
       "      <td>4</td>\n",
       "    </tr>\n",
       "    <tr>\n",
       "      <th>2</th>\n",
       "      <td>if you notice me start to act different or dis...</td>\n",
       "      <td>normal</td>\n",
       "      <td>5</td>\n",
       "    </tr>\n",
       "    <tr>\n",
       "      <th>3</th>\n",
       "      <td>Forget unfollowers, I believe in growing. 7 ne...</td>\n",
       "      <td>normal</td>\n",
       "      <td>3</td>\n",
       "    </tr>\n",
       "    <tr>\n",
       "      <th>4</th>\n",
       "      <td>RT @Vitiligoprince: Hate Being sexually Frustr...</td>\n",
       "      <td>harmful</td>\n",
       "      <td>4</td>\n",
       "    </tr>\n",
       "    <tr>\n",
       "      <th>...</th>\n",
       "      <td>...</td>\n",
       "      <td>...</td>\n",
       "      <td>...</td>\n",
       "    </tr>\n",
       "    <tr>\n",
       "      <th>85961</th>\n",
       "      <td>RT @shangros: my fucking queen https://t.co/wa...</td>\n",
       "      <td>harmful</td>\n",
       "      <td>5</td>\n",
       "    </tr>\n",
       "    <tr>\n",
       "      <th>85962</th>\n",
       "      <td>#Osteporosis treated with #PEMF - rebuild bone...</td>\n",
       "      <td>normal</td>\n",
       "      <td>3</td>\n",
       "    </tr>\n",
       "    <tr>\n",
       "      <th>85963</th>\n",
       "      <td>@LGUSAMobile why does my phone screen keeps fl...</td>\n",
       "      <td>normal</td>\n",
       "      <td>3</td>\n",
       "    </tr>\n",
       "    <tr>\n",
       "      <th>85964</th>\n",
       "      <td>#bigdata vs. #reality ... but equally applies ...</td>\n",
       "      <td>normal</td>\n",
       "      <td>5</td>\n",
       "    </tr>\n",
       "    <tr>\n",
       "      <th>85965</th>\n",
       "      <td>you can do whatever you choose, if you first g...</td>\n",
       "      <td>normal</td>\n",
       "      <td>5</td>\n",
       "    </tr>\n",
       "  </tbody>\n",
       "</table>\n",
       "<p>85966 rows × 3 columns</p>\n",
       "</div>"
      ],
      "text/plain": [
       "                                              Tweet text    Label  \\\n",
       "0      RT @Papapishu: Man it would fucking rule if we...  harmful   \n",
       "1      It is time to draw close to Him &#128591;&#127...   normal   \n",
       "2      if you notice me start to act different or dis...   normal   \n",
       "3      Forget unfollowers, I believe in growing. 7 ne...   normal   \n",
       "4      RT @Vitiligoprince: Hate Being sexually Frustr...  harmful   \n",
       "...                                                  ...      ...   \n",
       "85961  RT @shangros: my fucking queen https://t.co/wa...  harmful   \n",
       "85962  #Osteporosis treated with #PEMF - rebuild bone...   normal   \n",
       "85963  @LGUSAMobile why does my phone screen keeps fl...   normal   \n",
       "85964  #bigdata vs. #reality ... but equally applies ...   normal   \n",
       "85965  you can do whatever you choose, if you first g...   normal   \n",
       "\n",
       "       Votes for the majority label  \n",
       "0                                 4  \n",
       "1                                 4  \n",
       "2                                 5  \n",
       "3                                 3  \n",
       "4                                 4  \n",
       "...                             ...  \n",
       "85961                             5  \n",
       "85962                             3  \n",
       "85963                             3  \n",
       "85964                             5  \n",
       "85965                             5  \n",
       "\n",
       "[85966 rows x 3 columns]"
      ]
     },
     "execution_count": 5,
     "metadata": {},
     "output_type": "execute_result"
    }
   ],
   "source": [
    "df['Label'] = df['Label'].replace(['abusive', 'hateful'], 'harmful')\n",
    "df"
   ]
  },
  {
   "cell_type": "markdown",
   "id": "da5d9521",
   "metadata": {},
   "source": [
    "<h1>Map harmful to 0 and normal to 1</h1>"
   ]
  },
  {
   "cell_type": "code",
   "execution_count": 6,
   "id": "59453655",
   "metadata": {},
   "outputs": [
    {
     "data": {
      "text/html": [
       "<div>\n",
       "<style scoped>\n",
       "    .dataframe tbody tr th:only-of-type {\n",
       "        vertical-align: middle;\n",
       "    }\n",
       "\n",
       "    .dataframe tbody tr th {\n",
       "        vertical-align: top;\n",
       "    }\n",
       "\n",
       "    .dataframe thead th {\n",
       "        text-align: right;\n",
       "    }\n",
       "</style>\n",
       "<table border=\"1\" class=\"dataframe\">\n",
       "  <thead>\n",
       "    <tr style=\"text-align: right;\">\n",
       "      <th></th>\n",
       "      <th>Tweet text</th>\n",
       "      <th>Label</th>\n",
       "      <th>Votes for the majority label</th>\n",
       "    </tr>\n",
       "  </thead>\n",
       "  <tbody>\n",
       "    <tr>\n",
       "      <th>0</th>\n",
       "      <td>RT @Papapishu: Man it would fucking rule if we...</td>\n",
       "      <td>0</td>\n",
       "      <td>4</td>\n",
       "    </tr>\n",
       "    <tr>\n",
       "      <th>1</th>\n",
       "      <td>It is time to draw close to Him &amp;#128591;&amp;#127...</td>\n",
       "      <td>1</td>\n",
       "      <td>4</td>\n",
       "    </tr>\n",
       "    <tr>\n",
       "      <th>2</th>\n",
       "      <td>if you notice me start to act different or dis...</td>\n",
       "      <td>1</td>\n",
       "      <td>5</td>\n",
       "    </tr>\n",
       "    <tr>\n",
       "      <th>3</th>\n",
       "      <td>Forget unfollowers, I believe in growing. 7 ne...</td>\n",
       "      <td>1</td>\n",
       "      <td>3</td>\n",
       "    </tr>\n",
       "    <tr>\n",
       "      <th>4</th>\n",
       "      <td>RT @Vitiligoprince: Hate Being sexually Frustr...</td>\n",
       "      <td>0</td>\n",
       "      <td>4</td>\n",
       "    </tr>\n",
       "    <tr>\n",
       "      <th>...</th>\n",
       "      <td>...</td>\n",
       "      <td>...</td>\n",
       "      <td>...</td>\n",
       "    </tr>\n",
       "    <tr>\n",
       "      <th>85961</th>\n",
       "      <td>RT @shangros: my fucking queen https://t.co/wa...</td>\n",
       "      <td>0</td>\n",
       "      <td>5</td>\n",
       "    </tr>\n",
       "    <tr>\n",
       "      <th>85962</th>\n",
       "      <td>#Osteporosis treated with #PEMF - rebuild bone...</td>\n",
       "      <td>1</td>\n",
       "      <td>3</td>\n",
       "    </tr>\n",
       "    <tr>\n",
       "      <th>85963</th>\n",
       "      <td>@LGUSAMobile why does my phone screen keeps fl...</td>\n",
       "      <td>1</td>\n",
       "      <td>3</td>\n",
       "    </tr>\n",
       "    <tr>\n",
       "      <th>85964</th>\n",
       "      <td>#bigdata vs. #reality ... but equally applies ...</td>\n",
       "      <td>1</td>\n",
       "      <td>5</td>\n",
       "    </tr>\n",
       "    <tr>\n",
       "      <th>85965</th>\n",
       "      <td>you can do whatever you choose, if you first g...</td>\n",
       "      <td>1</td>\n",
       "      <td>5</td>\n",
       "    </tr>\n",
       "  </tbody>\n",
       "</table>\n",
       "<p>85966 rows × 3 columns</p>\n",
       "</div>"
      ],
      "text/plain": [
       "                                              Tweet text  Label  \\\n",
       "0      RT @Papapishu: Man it would fucking rule if we...      0   \n",
       "1      It is time to draw close to Him &#128591;&#127...      1   \n",
       "2      if you notice me start to act different or dis...      1   \n",
       "3      Forget unfollowers, I believe in growing. 7 ne...      1   \n",
       "4      RT @Vitiligoprince: Hate Being sexually Frustr...      0   \n",
       "...                                                  ...    ...   \n",
       "85961  RT @shangros: my fucking queen https://t.co/wa...      0   \n",
       "85962  #Osteporosis treated with #PEMF - rebuild bone...      1   \n",
       "85963  @LGUSAMobile why does my phone screen keeps fl...      1   \n",
       "85964  #bigdata vs. #reality ... but equally applies ...      1   \n",
       "85965  you can do whatever you choose, if you first g...      1   \n",
       "\n",
       "       Votes for the majority label  \n",
       "0                                 4  \n",
       "1                                 4  \n",
       "2                                 5  \n",
       "3                                 3  \n",
       "4                                 4  \n",
       "...                             ...  \n",
       "85961                             5  \n",
       "85962                             3  \n",
       "85963                             3  \n",
       "85964                             5  \n",
       "85965                             5  \n",
       "\n",
       "[85966 rows x 3 columns]"
      ]
     },
     "execution_count": 6,
     "metadata": {},
     "output_type": "execute_result"
    }
   ],
   "source": [
    "df['Label'] = df['Label'].replace([\"harmful\", \"normal\"], [0, 1])\n",
    "df"
   ]
  },
  {
   "cell_type": "markdown",
   "id": "635c313a",
   "metadata": {},
   "source": [
    "<h1>Declare the preprocessing function</h1>\n",
    "<p>This function takes a string and applies several regular expressions on the string, in order to eliminate unecessary words.</p>"
   ]
  },
  {
   "cell_type": "code",
   "execution_count": 7,
   "id": "197ab098",
   "metadata": {},
   "outputs": [],
   "source": [
    "def preprocessing(text):\n",
    "    # Different regex parts for smiley faces\n",
    "    eyes = \"[8:=;]\"\n",
    "    nose = \"['`\\-]?\"\n",
    "\n",
    "    text = re.sub(r\"https?:\\/\\/\\S+\\b|www\\.(\\w+\\.)+\\S*\", \"<URL>\", text)\n",
    "    text = re.sub(r\"/\",\" / \", text)\n",
    "    text = re.sub(r\"@\\w+\", \"<USER>\", text)\n",
    "    text = re.sub(rf\"{eyes}{nose}\\)+|\\(+{nose}{eyes}\", \"<SMILE>\", text)\n",
    "    text = re.sub(rf\"{eyes}{nose}p+\", \"<LOLFACE>\", text)\n",
    "    text = re.sub(rf\"{eyes}{nose}\\(+|\\)+{nose}{eyes}\", \"<SADFACE>\", text)\n",
    "    text = re.sub(rf\"{eyes}{nose}[/|l]+\", \"<NEUTRALFACE>\", text)\n",
    "    text = re.sub(r\"<3\", \"<HEART>\", text)\n",
    "    text = re.sub(r\"[\\-\\+]?[.\\d]*[\\d]+[:,.\\d]*\", \"<NUMBER>\", text)\n",
    "    text = re.sub(r\"#\", \"<HASHTAG>\", text)\n",
    "    text = re.sub(r\"([!?.]){2,}\", r\"\\1 <REPEAT>\", text)\n",
    "    text = re.sub(r\"\\b(\\S*?)(.)\\2{2,}\\b\", r\"\\1\\2 <ELONG>\", text)\n",
    "    \n",
    "    return text"
   ]
  },
  {
   "cell_type": "markdown",
   "id": "6e9326e9",
   "metadata": {},
   "source": [
    "<h1>Retrieve tweets text and apply the preprocessing function</h1>"
   ]
  },
  {
   "cell_type": "code",
   "execution_count": 8,
   "id": "118d77ea",
   "metadata": {},
   "outputs": [],
   "source": [
    "text = df['Tweet text'].tolist()\n",
    "for i, j in zip(text, range(len(text))):\n",
    "    text[j] = preprocessing(i)"
   ]
  },
  {
   "cell_type": "markdown",
   "id": "343946ea",
   "metadata": {},
   "source": [
    "<h1>Load glove model function</h1>\n",
    "<p>Create the glove model from every word in the text file we downloaded</p>"
   ]
  },
  {
   "cell_type": "code",
   "execution_count": 9,
   "id": "acd18cc9",
   "metadata": {},
   "outputs": [],
   "source": [
    "def loadGloveModel():\n",
    "    print(\"Loading Glove Model\")\n",
    "    with open(\"glove.twitter.27B.200d.txt\", 'r', encoding='utf8') as f:\n",
    "        gloveModel = {}\n",
    "        for line in f:\n",
    "            splitLines = line.split()\n",
    "            word = splitLines[0]\n",
    "            wordEmbedding = np.array([float(value) for value in splitLines[1:]])\n",
    "            gloveModel[word] = wordEmbedding\n",
    "        f.close()\n",
    "    print(len(gloveModel), \" words loaded!\")\n",
    "    return gloveModel"
   ]
  },
  {
   "cell_type": "markdown",
   "id": "cf26e6dc",
   "metadata": {},
   "source": [
    "<h1>Convert words of tweets to vectors using the gloVe model</h1>"
   ]
  },
  {
   "cell_type": "code",
   "execution_count": 10,
   "id": "54bcb5a7",
   "metadata": {},
   "outputs": [
    {
     "name": "stdout",
     "output_type": "stream",
     "text": [
      "Loading Glove Model\n",
      "1193514  words loaded!\n",
      "Found:  47673  Not found:  28396\n"
     ]
    }
   ],
   "source": [
    "tokenizer = Tokenizer(num_words=MAX_FEATURES)\n",
    "# create a word index vocabulary for each word in the dataset\n",
    "\n",
    "tokenizer.fit_on_texts(text)\n",
    "word_index = tokenizer.word_index\n",
    "\n",
    "# load pretrained Embedding\n",
    "gloveModel = loadGloveModel()\n",
    "\n",
    "text_embedding = np.random.random((len(word_index) + 1, EMBEDDING_DIM))\n",
    "found = 0\n",
    "not_found = 0\n",
    "# embedding_matrix = np.zeros((len(word_index) + 1, 25))\n",
    "for word, i in word_index.items():\n",
    "    if i >= (len(word_index) + 1):\n",
    "        continue\n",
    "    embedding_vector = gloveModel.get(word)\n",
    "    if embedding_vector is not None:\n",
    "        # words not found in embedding index will be all-zeros.\n",
    "        text_embedding[i] = embedding_vector\n",
    "        found += 1\n",
    "    else:\n",
    "        not_found += 1\n",
    "\n",
    "\n",
    "print(\"Found: \", found, \" Not found: \", not_found)\n",
    "\n",
    "list_tokenized_train = tokenizer.texts_to_sequences(text)\n",
    "x = pad_sequences(list_tokenized_train, maxlen=MAX_LEN, padding=\"post\")\n",
    "y = df['Label'].tolist()"
   ]
  },
  {
   "cell_type": "markdown",
   "id": "1b6f6cd3",
   "metadata": {},
   "source": [
    "<h1>Create the kmeans model</h1>"
   ]
  },
  {
   "cell_type": "code",
   "execution_count": 11,
   "id": "a0a00a88",
   "metadata": {},
   "outputs": [],
   "source": [
    "kmeans = KMeans(n_clusters=2, random_state=0).fit(x)\n",
    "labels = kmeans.labels_"
   ]
  },
  {
   "cell_type": "markdown",
   "id": "a44695fb",
   "metadata": {},
   "source": [
    "<h1>Create a new dataframe with the original text, original label and output of kmeans</h1>"
   ]
  },
  {
   "cell_type": "code",
   "execution_count": 12,
   "id": "2116775a",
   "metadata": {},
   "outputs": [
    {
     "data": {
      "text/html": [
       "<div>\n",
       "<style scoped>\n",
       "    .dataframe tbody tr th:only-of-type {\n",
       "        vertical-align: middle;\n",
       "    }\n",
       "\n",
       "    .dataframe tbody tr th {\n",
       "        vertical-align: top;\n",
       "    }\n",
       "\n",
       "    .dataframe thead th {\n",
       "        text-align: right;\n",
       "    }\n",
       "</style>\n",
       "<table border=\"1\" class=\"dataframe\">\n",
       "  <thead>\n",
       "    <tr style=\"text-align: right;\">\n",
       "      <th></th>\n",
       "      <th>Original Text</th>\n",
       "      <th>Original Label</th>\n",
       "      <th>Label</th>\n",
       "    </tr>\n",
       "  </thead>\n",
       "  <tbody>\n",
       "    <tr>\n",
       "      <th>0</th>\n",
       "      <td>RT @Papapishu: Man it would fucking rule if we...</td>\n",
       "      <td>0</td>\n",
       "      <td>1</td>\n",
       "    </tr>\n",
       "    <tr>\n",
       "      <th>1</th>\n",
       "      <td>It is time to draw close to Him &amp;#128591;&amp;#127...</td>\n",
       "      <td>1</td>\n",
       "      <td>1</td>\n",
       "    </tr>\n",
       "    <tr>\n",
       "      <th>2</th>\n",
       "      <td>if you notice me start to act different or dis...</td>\n",
       "      <td>1</td>\n",
       "      <td>1</td>\n",
       "    </tr>\n",
       "    <tr>\n",
       "      <th>3</th>\n",
       "      <td>Forget unfollowers, I believe in growing. 7 ne...</td>\n",
       "      <td>1</td>\n",
       "      <td>1</td>\n",
       "    </tr>\n",
       "    <tr>\n",
       "      <th>4</th>\n",
       "      <td>RT @Vitiligoprince: Hate Being sexually Frustr...</td>\n",
       "      <td>0</td>\n",
       "      <td>1</td>\n",
       "    </tr>\n",
       "    <tr>\n",
       "      <th>...</th>\n",
       "      <td>...</td>\n",
       "      <td>...</td>\n",
       "      <td>...</td>\n",
       "    </tr>\n",
       "    <tr>\n",
       "      <th>85961</th>\n",
       "      <td>RT @shangros: my fucking queen https://t.co/wa...</td>\n",
       "      <td>0</td>\n",
       "      <td>1</td>\n",
       "    </tr>\n",
       "    <tr>\n",
       "      <th>85962</th>\n",
       "      <td>#Osteporosis treated with #PEMF - rebuild bone...</td>\n",
       "      <td>1</td>\n",
       "      <td>1</td>\n",
       "    </tr>\n",
       "    <tr>\n",
       "      <th>85963</th>\n",
       "      <td>@LGUSAMobile why does my phone screen keeps fl...</td>\n",
       "      <td>1</td>\n",
       "      <td>1</td>\n",
       "    </tr>\n",
       "    <tr>\n",
       "      <th>85964</th>\n",
       "      <td>#bigdata vs. #reality ... but equally applies ...</td>\n",
       "      <td>1</td>\n",
       "      <td>1</td>\n",
       "    </tr>\n",
       "    <tr>\n",
       "      <th>85965</th>\n",
       "      <td>you can do whatever you choose, if you first g...</td>\n",
       "      <td>1</td>\n",
       "      <td>1</td>\n",
       "    </tr>\n",
       "  </tbody>\n",
       "</table>\n",
       "<p>85966 rows × 3 columns</p>\n",
       "</div>"
      ],
      "text/plain": [
       "                                           Original Text  Original Label  \\\n",
       "0      RT @Papapishu: Man it would fucking rule if we...               0   \n",
       "1      It is time to draw close to Him &#128591;&#127...               1   \n",
       "2      if you notice me start to act different or dis...               1   \n",
       "3      Forget unfollowers, I believe in growing. 7 ne...               1   \n",
       "4      RT @Vitiligoprince: Hate Being sexually Frustr...               0   \n",
       "...                                                  ...             ...   \n",
       "85961  RT @shangros: my fucking queen https://t.co/wa...               0   \n",
       "85962  #Osteporosis treated with #PEMF - rebuild bone...               1   \n",
       "85963  @LGUSAMobile why does my phone screen keeps fl...               1   \n",
       "85964  #bigdata vs. #reality ... but equally applies ...               1   \n",
       "85965  you can do whatever you choose, if you first g...               1   \n",
       "\n",
       "       Label  \n",
       "0          1  \n",
       "1          1  \n",
       "2          1  \n",
       "3          1  \n",
       "4          1  \n",
       "...      ...  \n",
       "85961      1  \n",
       "85962      1  \n",
       "85963      1  \n",
       "85964      1  \n",
       "85965      1  \n",
       "\n",
       "[85966 rows x 3 columns]"
      ]
     },
     "execution_count": 12,
     "metadata": {},
     "output_type": "execute_result"
    }
   ],
   "source": [
    "new_df = pd.DataFrame({'Original Text':df['Tweet text'], \n",
    "                       'Original Label':df['Label'], \n",
    "                       'Label':labels})\n",
    "new_df"
   ]
  },
  {
   "cell_type": "markdown",
   "id": "5958a0ed",
   "metadata": {},
   "source": [
    "<h1>Print info on normal labeled data</h1>"
   ]
  },
  {
   "cell_type": "code",
   "execution_count": 13,
   "id": "5f7422e1",
   "metadata": {},
   "outputs": [
    {
     "data": {
      "text/plain": [
       "1    40932\n",
       "0    12919\n",
       "Name: Label, dtype: int64"
      ]
     },
     "execution_count": 13,
     "metadata": {},
     "output_type": "execute_result"
    }
   ],
   "source": [
    "normal_df = new_df[new_df[\"Original Label\"] == 1]\n",
    "normal_df['Label'].value_counts()"
   ]
  },
  {
   "cell_type": "markdown",
   "id": "3983cf2d",
   "metadata": {},
   "source": [
    "<h1>Print info on harmful labeled data</h1>"
   ]
  },
  {
   "cell_type": "code",
   "execution_count": 14,
   "id": "a48198b1",
   "metadata": {},
   "outputs": [
    {
     "data": {
      "text/plain": [
       "1    29569\n",
       "0     2546\n",
       "Name: Label, dtype: int64"
      ]
     },
     "execution_count": 14,
     "metadata": {},
     "output_type": "execute_result"
    }
   ],
   "source": [
    "harmful_df = new_df[new_df[\"Original Label\"] == 0]\n",
    "harmful_df['Label'].value_counts()"
   ]
  },
  {
   "cell_type": "markdown",
   "id": "2b10f81f",
   "metadata": {},
   "source": [
    "<h1>Create a results dataframe</h1>"
   ]
  },
  {
   "cell_type": "code",
   "execution_count": 15,
   "id": "63cbf989",
   "metadata": {},
   "outputs": [
    {
     "data": {
      "text/html": [
       "<div>\n",
       "<style scoped>\n",
       "    .dataframe tbody tr th:only-of-type {\n",
       "        vertical-align: middle;\n",
       "    }\n",
       "\n",
       "    .dataframe tbody tr th {\n",
       "        vertical-align: top;\n",
       "    }\n",
       "\n",
       "    .dataframe thead th {\n",
       "        text-align: right;\n",
       "    }\n",
       "</style>\n",
       "<table border=\"1\" class=\"dataframe\">\n",
       "  <thead>\n",
       "    <tr style=\"text-align: right;\">\n",
       "      <th></th>\n",
       "      <th>Normal</th>\n",
       "      <th>Harmful</th>\n",
       "    </tr>\n",
       "  </thead>\n",
       "  <tbody>\n",
       "    <tr>\n",
       "      <th>1</th>\n",
       "      <td>40932</td>\n",
       "      <td>29569</td>\n",
       "    </tr>\n",
       "    <tr>\n",
       "      <th>0</th>\n",
       "      <td>12919</td>\n",
       "      <td>2546</td>\n",
       "    </tr>\n",
       "  </tbody>\n",
       "</table>\n",
       "</div>"
      ],
      "text/plain": [
       "   Normal  Harmful\n",
       "1   40932    29569\n",
       "0   12919     2546"
      ]
     },
     "execution_count": 15,
     "metadata": {},
     "output_type": "execute_result"
    }
   ],
   "source": [
    "results = pd.DataFrame({'Normal':normal_df['Label'].value_counts(),\n",
    "                        'Harmful':harmful_df['Label'].value_counts()})\n",
    "results"
   ]
  },
  {
   "cell_type": "markdown",
   "id": "610b961c",
   "metadata": {},
   "source": [
    "<h1>Bar plot of results</h1>"
   ]
  },
  {
   "cell_type": "code",
   "execution_count": 16,
   "id": "84c64136",
   "metadata": {},
   "outputs": [
    {
     "data": {
      "image/png": "[encoded data removed]",
      "text/plain": [
       "<Figure size 432x288 with 1 Axes>"
      ]
     },
     "metadata": {
      "needs_background": "light"
     },
     "output_type": "display_data"
    }
   ],
   "source": [
    "results.plot.bar()\n",
    "plt.xlabel(\"Clusters\")\n",
    "plt.ylabel(\"Occurences\")\n",
    "plt.title(\"Number of Occurences per Cluster\")\n",
    "plt.show()"
   ]
  },
  {
   "cell_type": "markdown",
   "id": "d34d31e3",
   "metadata": {},
   "source": [
    "<h1>Print the accuracy of each cluster</h1>"
   ]
  },
  {
   "cell_type": "code",
   "execution_count": 17,
   "id": "39c9bc45",
   "metadata": {},
   "outputs": [
    {
     "name": "stdout",
     "output_type": "stream",
     "text": [
      "Individual dataset accuracy:\n",
      " For normal labeled data  =  0.7600973055282167\n",
      " For harmful labeled data =  0.07927759613887592\n"
     ]
    }
   ],
   "source": [
    "print(\"Individual dataset accuracy:\")\n",
    "print(\" For normal labeled data  = \", results[\"Normal\"][1]/(results[\"Normal\"].sum()))\n",
    "print(\" For harmful labeled data = \", results[\"Harmful\"][0]/(results[\"Harmful\"].sum()))"
   ]
  },
  {
   "cell_type": "markdown",
   "id": "f66eb086",
   "metadata": {},
   "source": [
    "<h1>Print the overall model accuracy</h1>"
   ]
  },
  {
   "cell_type": "code",
   "execution_count": 18,
   "id": "a0bea8d4",
   "metadata": {},
   "outputs": [
    {
     "name": "stdout",
     "output_type": "stream",
     "text": [
      "Overall accuracy = 50.576\n"
     ]
    }
   ],
   "source": [
    "score = accuracy_score(new_df['Original Label'], new_df['Label'])\n",
    "print('Overall accuracy = %.3f' % (score*100))"
   ]
  },
  {
   "cell_type": "code",
   "execution_count": null,
   "id": "bb0dca93",
   "metadata": {},
   "outputs": [],
   "source": []
  }
 ],
 "metadata": {
  "kernelspec": {
   "display_name": "Python 3 (ipykernel)",
   "language": "python",
   "name": "python3"
  },
  "language_info": {
   "codemirror_mode": {
    "name": "ipython",
    "version": 3
   },
   "file_extension": ".py",
   "mimetype": "text/x-python",
   "name": "python",
   "nbconvert_exporter": "python",
   "pygments_lexer": "ipython3",
   "version": "3.9.12"
  }
 },
 "nbformat": 4,
 "nbformat_minor": 5
}
