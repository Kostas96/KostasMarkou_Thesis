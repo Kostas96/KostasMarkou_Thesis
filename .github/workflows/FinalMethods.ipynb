{
 "cells": [
  {
   "cell_type": "markdown",
   "id": "c07cc8ee",
   "metadata": {},
   "source": [
    "<h1>Import Libraries</h1>"
   ]
  },
  {
   "cell_type": "code",
   "execution_count": 1,
   "id": "a2129c33",
   "metadata": {},
   "outputs": [],
   "source": [
    "import pandas as pd\n",
    "import re\n",
    "from tensorflow.keras.preprocessing.text import Tokenizer\n",
    "from tensorflow.keras.preprocessing.sequence import pad_sequences\n",
    "import numpy as np\n",
    "from keras.models import Sequential\n",
    "from keras.layers import Embedding"
   ]
  },
  {
   "cell_type": "markdown",
   "id": "2a4b6026",
   "metadata": {},
   "source": [
    "<h1>Read csv</h1>"
   ]
  },
  {
   "cell_type": "code",
   "execution_count": 2,
   "id": "64d38044",
   "metadata": {},
   "outputs": [
    {
     "data": {
      "text/html": [
       "<div>\n",
       "<style scoped>\n",
       "    .dataframe tbody tr th:only-of-type {\n",
       "        vertical-align: middle;\n",
       "    }\n",
       "\n",
       "    .dataframe tbody tr th {\n",
       "        vertical-align: top;\n",
       "    }\n",
       "\n",
       "    .dataframe thead th {\n",
       "        text-align: right;\n",
       "    }\n",
       "</style>\n",
       "<table border=\"1\" class=\"dataframe\">\n",
       "  <thead>\n",
       "    <tr style=\"text-align: right;\">\n",
       "      <th></th>\n",
       "      <th>Tweet text</th>\n",
       "      <th>Label</th>\n",
       "      <th>Votes for the majority label</th>\n",
       "    </tr>\n",
       "  </thead>\n",
       "  <tbody>\n",
       "    <tr>\n",
       "      <th>0</th>\n",
       "      <td>Beats by Dr. Dre urBeats Wired In-Ear Headphon...</td>\n",
       "      <td>spam</td>\n",
       "      <td>4</td>\n",
       "    </tr>\n",
       "    <tr>\n",
       "      <th>1</th>\n",
       "      <td>RT @Papapishu: Man it would fucking rule if we...</td>\n",
       "      <td>abusive</td>\n",
       "      <td>4</td>\n",
       "    </tr>\n",
       "    <tr>\n",
       "      <th>2</th>\n",
       "      <td>It is time to draw close to Him &amp;#128591;&amp;#127...</td>\n",
       "      <td>normal</td>\n",
       "      <td>4</td>\n",
       "    </tr>\n",
       "    <tr>\n",
       "      <th>3</th>\n",
       "      <td>if you notice me start to act different or dis...</td>\n",
       "      <td>normal</td>\n",
       "      <td>5</td>\n",
       "    </tr>\n",
       "    <tr>\n",
       "      <th>4</th>\n",
       "      <td>Forget unfollowers, I believe in growing. 7 ne...</td>\n",
       "      <td>normal</td>\n",
       "      <td>3</td>\n",
       "    </tr>\n",
       "    <tr>\n",
       "      <th>...</th>\n",
       "      <td>...</td>\n",
       "      <td>...</td>\n",
       "      <td>...</td>\n",
       "    </tr>\n",
       "    <tr>\n",
       "      <th>99991</th>\n",
       "      <td>RT @shangros: my fucking queen https://t.co/wa...</td>\n",
       "      <td>abusive</td>\n",
       "      <td>5</td>\n",
       "    </tr>\n",
       "    <tr>\n",
       "      <th>99992</th>\n",
       "      <td>#Osteporosis treated with #PEMF - rebuild bone...</td>\n",
       "      <td>normal</td>\n",
       "      <td>3</td>\n",
       "    </tr>\n",
       "    <tr>\n",
       "      <th>99993</th>\n",
       "      <td>@LGUSAMobile why does my phone screen keeps fl...</td>\n",
       "      <td>normal</td>\n",
       "      <td>3</td>\n",
       "    </tr>\n",
       "    <tr>\n",
       "      <th>99994</th>\n",
       "      <td>#bigdata vs. #reality ... but equally applies ...</td>\n",
       "      <td>normal</td>\n",
       "      <td>5</td>\n",
       "    </tr>\n",
       "    <tr>\n",
       "      <th>99995</th>\n",
       "      <td>you can do whatever you choose, if you first g...</td>\n",
       "      <td>normal</td>\n",
       "      <td>5</td>\n",
       "    </tr>\n",
       "  </tbody>\n",
       "</table>\n",
       "<p>99996 rows × 3 columns</p>\n",
       "</div>"
      ],
      "text/plain": [
       "                                              Tweet text    Label  \\\n",
       "0      Beats by Dr. Dre urBeats Wired In-Ear Headphon...     spam   \n",
       "1      RT @Papapishu: Man it would fucking rule if we...  abusive   \n",
       "2      It is time to draw close to Him &#128591;&#127...   normal   \n",
       "3      if you notice me start to act different or dis...   normal   \n",
       "4      Forget unfollowers, I believe in growing. 7 ne...   normal   \n",
       "...                                                  ...      ...   \n",
       "99991  RT @shangros: my fucking queen https://t.co/wa...  abusive   \n",
       "99992  #Osteporosis treated with #PEMF - rebuild bone...   normal   \n",
       "99993  @LGUSAMobile why does my phone screen keeps fl...   normal   \n",
       "99994  #bigdata vs. #reality ... but equally applies ...   normal   \n",
       "99995  you can do whatever you choose, if you first g...   normal   \n",
       "\n",
       "       Votes for the majority label  \n",
       "0                                 4  \n",
       "1                                 4  \n",
       "2                                 4  \n",
       "3                                 5  \n",
       "4                                 3  \n",
       "...                             ...  \n",
       "99991                             5  \n",
       "99992                             3  \n",
       "99993                             3  \n",
       "99994                             5  \n",
       "99995                             5  \n",
       "\n",
       "[99996 rows x 3 columns]"
      ]
     },
     "execution_count": 2,
     "metadata": {},
     "output_type": "execute_result"
    }
   ],
   "source": [
    "df = pd.read_csv('tweets.csv')\n",
    "df"
   ]
  },
  {
   "cell_type": "markdown",
   "id": "f56daba4",
   "metadata": {},
   "source": [
    "<h1>Drop spam labeled tweets and reset index</h1>"
   ]
  },
  {
   "cell_type": "code",
   "execution_count": 3,
   "id": "bd373eb0",
   "metadata": {},
   "outputs": [
    {
     "data": {
      "text/html": [
       "<div>\n",
       "<style scoped>\n",
       "    .dataframe tbody tr th:only-of-type {\n",
       "        vertical-align: middle;\n",
       "    }\n",
       "\n",
       "    .dataframe tbody tr th {\n",
       "        vertical-align: top;\n",
       "    }\n",
       "\n",
       "    .dataframe thead th {\n",
       "        text-align: right;\n",
       "    }\n",
       "</style>\n",
       "<table border=\"1\" class=\"dataframe\">\n",
       "  <thead>\n",
       "    <tr style=\"text-align: right;\">\n",
       "      <th></th>\n",
       "      <th>Tweet text</th>\n",
       "      <th>Label</th>\n",
       "      <th>Votes for the majority label</th>\n",
       "    </tr>\n",
       "  </thead>\n",
       "  <tbody>\n",
       "    <tr>\n",
       "      <th>0</th>\n",
       "      <td>RT @Papapishu: Man it would fucking rule if we...</td>\n",
       "      <td>abusive</td>\n",
       "      <td>4</td>\n",
       "    </tr>\n",
       "    <tr>\n",
       "      <th>1</th>\n",
       "      <td>It is time to draw close to Him &amp;#128591;&amp;#127...</td>\n",
       "      <td>normal</td>\n",
       "      <td>4</td>\n",
       "    </tr>\n",
       "    <tr>\n",
       "      <th>2</th>\n",
       "      <td>if you notice me start to act different or dis...</td>\n",
       "      <td>normal</td>\n",
       "      <td>5</td>\n",
       "    </tr>\n",
       "    <tr>\n",
       "      <th>3</th>\n",
       "      <td>Forget unfollowers, I believe in growing. 7 ne...</td>\n",
       "      <td>normal</td>\n",
       "      <td>3</td>\n",
       "    </tr>\n",
       "    <tr>\n",
       "      <th>4</th>\n",
       "      <td>RT @Vitiligoprince: Hate Being sexually Frustr...</td>\n",
       "      <td>abusive</td>\n",
       "      <td>4</td>\n",
       "    </tr>\n",
       "    <tr>\n",
       "      <th>...</th>\n",
       "      <td>...</td>\n",
       "      <td>...</td>\n",
       "      <td>...</td>\n",
       "    </tr>\n",
       "    <tr>\n",
       "      <th>85961</th>\n",
       "      <td>RT @shangros: my fucking queen https://t.co/wa...</td>\n",
       "      <td>abusive</td>\n",
       "      <td>5</td>\n",
       "    </tr>\n",
       "    <tr>\n",
       "      <th>85962</th>\n",
       "      <td>#Osteporosis treated with #PEMF - rebuild bone...</td>\n",
       "      <td>normal</td>\n",
       "      <td>3</td>\n",
       "    </tr>\n",
       "    <tr>\n",
       "      <th>85963</th>\n",
       "      <td>@LGUSAMobile why does my phone screen keeps fl...</td>\n",
       "      <td>normal</td>\n",
       "      <td>3</td>\n",
       "    </tr>\n",
       "    <tr>\n",
       "      <th>85964</th>\n",
       "      <td>#bigdata vs. #reality ... but equally applies ...</td>\n",
       "      <td>normal</td>\n",
       "      <td>5</td>\n",
       "    </tr>\n",
       "    <tr>\n",
       "      <th>85965</th>\n",
       "      <td>you can do whatever you choose, if you first g...</td>\n",
       "      <td>normal</td>\n",
       "      <td>5</td>\n",
       "    </tr>\n",
       "  </tbody>\n",
       "</table>\n",
       "<p>85966 rows × 3 columns</p>\n",
       "</div>"
      ],
      "text/plain": [
       "                                              Tweet text    Label  \\\n",
       "0      RT @Papapishu: Man it would fucking rule if we...  abusive   \n",
       "1      It is time to draw close to Him &#128591;&#127...   normal   \n",
       "2      if you notice me start to act different or dis...   normal   \n",
       "3      Forget unfollowers, I believe in growing. 7 ne...   normal   \n",
       "4      RT @Vitiligoprince: Hate Being sexually Frustr...  abusive   \n",
       "...                                                  ...      ...   \n",
       "85961  RT @shangros: my fucking queen https://t.co/wa...  abusive   \n",
       "85962  #Osteporosis treated with #PEMF - rebuild bone...   normal   \n",
       "85963  @LGUSAMobile why does my phone screen keeps fl...   normal   \n",
       "85964  #bigdata vs. #reality ... but equally applies ...   normal   \n",
       "85965  you can do whatever you choose, if you first g...   normal   \n",
       "\n",
       "       Votes for the majority label  \n",
       "0                                 4  \n",
       "1                                 4  \n",
       "2                                 5  \n",
       "3                                 3  \n",
       "4                                 4  \n",
       "...                             ...  \n",
       "85961                             5  \n",
       "85962                             3  \n",
       "85963                             3  \n",
       "85964                             5  \n",
       "85965                             5  \n",
       "\n",
       "[85966 rows x 3 columns]"
      ]
     },
     "execution_count": 3,
     "metadata": {},
     "output_type": "execute_result"
    }
   ],
   "source": [
    "df = df[df['Label'] != \"spam\"].dropna()\n",
    "df = df.reset_index(drop=True)\n",
    "df"
   ]
  },
  {
   "cell_type": "markdown",
   "id": "5435acb9",
   "metadata": {},
   "source": [
    "<h1>Combining abusive and hateful tweets to one labeled, named harmful</h1>"
   ]
  },
  {
   "cell_type": "code",
   "execution_count": 4,
   "id": "4087181e",
   "metadata": {},
   "outputs": [
    {
     "data": {
      "text/html": [
       "<div>\n",
       "<style scoped>\n",
       "    .dataframe tbody tr th:only-of-type {\n",
       "        vertical-align: middle;\n",
       "    }\n",
       "\n",
       "    .dataframe tbody tr th {\n",
       "        vertical-align: top;\n",
       "    }\n",
       "\n",
       "    .dataframe thead th {\n",
       "        text-align: right;\n",
       "    }\n",
       "</style>\n",
       "<table border=\"1\" class=\"dataframe\">\n",
       "  <thead>\n",
       "    <tr style=\"text-align: right;\">\n",
       "      <th></th>\n",
       "      <th>Tweet text</th>\n",
       "      <th>Label</th>\n",
       "      <th>Votes for the majority label</th>\n",
       "    </tr>\n",
       "  </thead>\n",
       "  <tbody>\n",
       "    <tr>\n",
       "      <th>0</th>\n",
       "      <td>RT @Papapishu: Man it would fucking rule if we...</td>\n",
       "      <td>harmful</td>\n",
       "      <td>4</td>\n",
       "    </tr>\n",
       "    <tr>\n",
       "      <th>1</th>\n",
       "      <td>It is time to draw close to Him &amp;#128591;&amp;#127...</td>\n",
       "      <td>normal</td>\n",
       "      <td>4</td>\n",
       "    </tr>\n",
       "    <tr>\n",
       "      <th>2</th>\n",
       "      <td>if you notice me start to act different or dis...</td>\n",
       "      <td>normal</td>\n",
       "      <td>5</td>\n",
       "    </tr>\n",
       "    <tr>\n",
       "      <th>3</th>\n",
       "      <td>Forget unfollowers, I believe in growing. 7 ne...</td>\n",
       "      <td>normal</td>\n",
       "      <td>3</td>\n",
       "    </tr>\n",
       "    <tr>\n",
       "      <th>4</th>\n",
       "      <td>RT @Vitiligoprince: Hate Being sexually Frustr...</td>\n",
       "      <td>harmful</td>\n",
       "      <td>4</td>\n",
       "    </tr>\n",
       "    <tr>\n",
       "      <th>...</th>\n",
       "      <td>...</td>\n",
       "      <td>...</td>\n",
       "      <td>...</td>\n",
       "    </tr>\n",
       "    <tr>\n",
       "      <th>85961</th>\n",
       "      <td>RT @shangros: my fucking queen https://t.co/wa...</td>\n",
       "      <td>harmful</td>\n",
       "      <td>5</td>\n",
       "    </tr>\n",
       "    <tr>\n",
       "      <th>85962</th>\n",
       "      <td>#Osteporosis treated with #PEMF - rebuild bone...</td>\n",
       "      <td>normal</td>\n",
       "      <td>3</td>\n",
       "    </tr>\n",
       "    <tr>\n",
       "      <th>85963</th>\n",
       "      <td>@LGUSAMobile why does my phone screen keeps fl...</td>\n",
       "      <td>normal</td>\n",
       "      <td>3</td>\n",
       "    </tr>\n",
       "    <tr>\n",
       "      <th>85964</th>\n",
       "      <td>#bigdata vs. #reality ... but equally applies ...</td>\n",
       "      <td>normal</td>\n",
       "      <td>5</td>\n",
       "    </tr>\n",
       "    <tr>\n",
       "      <th>85965</th>\n",
       "      <td>you can do whatever you choose, if you first g...</td>\n",
       "      <td>normal</td>\n",
       "      <td>5</td>\n",
       "    </tr>\n",
       "  </tbody>\n",
       "</table>\n",
       "<p>85966 rows × 3 columns</p>\n",
       "</div>"
      ],
      "text/plain": [
       "                                              Tweet text    Label  \\\n",
       "0      RT @Papapishu: Man it would fucking rule if we...  harmful   \n",
       "1      It is time to draw close to Him &#128591;&#127...   normal   \n",
       "2      if you notice me start to act different or dis...   normal   \n",
       "3      Forget unfollowers, I believe in growing. 7 ne...   normal   \n",
       "4      RT @Vitiligoprince: Hate Being sexually Frustr...  harmful   \n",
       "...                                                  ...      ...   \n",
       "85961  RT @shangros: my fucking queen https://t.co/wa...  harmful   \n",
       "85962  #Osteporosis treated with #PEMF - rebuild bone...   normal   \n",
       "85963  @LGUSAMobile why does my phone screen keeps fl...   normal   \n",
       "85964  #bigdata vs. #reality ... but equally applies ...   normal   \n",
       "85965  you can do whatever you choose, if you first g...   normal   \n",
       "\n",
       "       Votes for the majority label  \n",
       "0                                 4  \n",
       "1                                 4  \n",
       "2                                 5  \n",
       "3                                 3  \n",
       "4                                 4  \n",
       "...                             ...  \n",
       "85961                             5  \n",
       "85962                             3  \n",
       "85963                             3  \n",
       "85964                             5  \n",
       "85965                             5  \n",
       "\n",
       "[85966 rows x 3 columns]"
      ]
     },
     "execution_count": 4,
     "metadata": {},
     "output_type": "execute_result"
    }
   ],
   "source": [
    "df['Label'] = df['Label'].replace(['abusive', 'hateful'], 'harmful')\n",
    "df"
   ]
  },
  {
   "cell_type": "markdown",
   "id": "aca425dd",
   "metadata": {},
   "source": [
    "<h1>Map harmful to 0 and normal to 1</h1>"
   ]
  },
  {
   "cell_type": "code",
   "execution_count": 5,
   "id": "3b59d6ad",
   "metadata": {},
   "outputs": [
    {
     "data": {
      "text/html": [
       "<div>\n",
       "<style scoped>\n",
       "    .dataframe tbody tr th:only-of-type {\n",
       "        vertical-align: middle;\n",
       "    }\n",
       "\n",
       "    .dataframe tbody tr th {\n",
       "        vertical-align: top;\n",
       "    }\n",
       "\n",
       "    .dataframe thead th {\n",
       "        text-align: right;\n",
       "    }\n",
       "</style>\n",
       "<table border=\"1\" class=\"dataframe\">\n",
       "  <thead>\n",
       "    <tr style=\"text-align: right;\">\n",
       "      <th></th>\n",
       "      <th>Tweet text</th>\n",
       "      <th>Label</th>\n",
       "      <th>Votes for the majority label</th>\n",
       "    </tr>\n",
       "  </thead>\n",
       "  <tbody>\n",
       "    <tr>\n",
       "      <th>0</th>\n",
       "      <td>RT @Papapishu: Man it would fucking rule if we...</td>\n",
       "      <td>0</td>\n",
       "      <td>4</td>\n",
       "    </tr>\n",
       "    <tr>\n",
       "      <th>1</th>\n",
       "      <td>It is time to draw close to Him &amp;#128591;&amp;#127...</td>\n",
       "      <td>1</td>\n",
       "      <td>4</td>\n",
       "    </tr>\n",
       "    <tr>\n",
       "      <th>2</th>\n",
       "      <td>if you notice me start to act different or dis...</td>\n",
       "      <td>1</td>\n",
       "      <td>5</td>\n",
       "    </tr>\n",
       "    <tr>\n",
       "      <th>3</th>\n",
       "      <td>Forget unfollowers, I believe in growing. 7 ne...</td>\n",
       "      <td>1</td>\n",
       "      <td>3</td>\n",
       "    </tr>\n",
       "    <tr>\n",
       "      <th>4</th>\n",
       "      <td>RT @Vitiligoprince: Hate Being sexually Frustr...</td>\n",
       "      <td>0</td>\n",
       "      <td>4</td>\n",
       "    </tr>\n",
       "    <tr>\n",
       "      <th>...</th>\n",
       "      <td>...</td>\n",
       "      <td>...</td>\n",
       "      <td>...</td>\n",
       "    </tr>\n",
       "    <tr>\n",
       "      <th>85961</th>\n",
       "      <td>RT @shangros: my fucking queen https://t.co/wa...</td>\n",
       "      <td>0</td>\n",
       "      <td>5</td>\n",
       "    </tr>\n",
       "    <tr>\n",
       "      <th>85962</th>\n",
       "      <td>#Osteporosis treated with #PEMF - rebuild bone...</td>\n",
       "      <td>1</td>\n",
       "      <td>3</td>\n",
       "    </tr>\n",
       "    <tr>\n",
       "      <th>85963</th>\n",
       "      <td>@LGUSAMobile why does my phone screen keeps fl...</td>\n",
       "      <td>1</td>\n",
       "      <td>3</td>\n",
       "    </tr>\n",
       "    <tr>\n",
       "      <th>85964</th>\n",
       "      <td>#bigdata vs. #reality ... but equally applies ...</td>\n",
       "      <td>1</td>\n",
       "      <td>5</td>\n",
       "    </tr>\n",
       "    <tr>\n",
       "      <th>85965</th>\n",
       "      <td>you can do whatever you choose, if you first g...</td>\n",
       "      <td>1</td>\n",
       "      <td>5</td>\n",
       "    </tr>\n",
       "  </tbody>\n",
       "</table>\n",
       "<p>85966 rows × 3 columns</p>\n",
       "</div>"
      ],
      "text/plain": [
       "                                              Tweet text  Label  \\\n",
       "0      RT @Papapishu: Man it would fucking rule if we...      0   \n",
       "1      It is time to draw close to Him &#128591;&#127...      1   \n",
       "2      if you notice me start to act different or dis...      1   \n",
       "3      Forget unfollowers, I believe in growing. 7 ne...      1   \n",
       "4      RT @Vitiligoprince: Hate Being sexually Frustr...      0   \n",
       "...                                                  ...    ...   \n",
       "85961  RT @shangros: my fucking queen https://t.co/wa...      0   \n",
       "85962  #Osteporosis treated with #PEMF - rebuild bone...      1   \n",
       "85963  @LGUSAMobile why does my phone screen keeps fl...      1   \n",
       "85964  #bigdata vs. #reality ... but equally applies ...      1   \n",
       "85965  you can do whatever you choose, if you first g...      1   \n",
       "\n",
       "       Votes for the majority label  \n",
       "0                                 4  \n",
       "1                                 4  \n",
       "2                                 5  \n",
       "3                                 3  \n",
       "4                                 4  \n",
       "...                             ...  \n",
       "85961                             5  \n",
       "85962                             3  \n",
       "85963                             3  \n",
       "85964                             5  \n",
       "85965                             5  \n",
       "\n",
       "[85966 rows x 3 columns]"
      ]
     },
     "execution_count": 5,
     "metadata": {},
     "output_type": "execute_result"
    }
   ],
   "source": [
    "df['Label'] = df['Label'].replace([\"harmful\", \"normal\"], [0, 1])\n",
    "df"
   ]
  },
  {
   "cell_type": "markdown",
   "id": "e3601255",
   "metadata": {},
   "source": [
    "<h1>Preprocessing phase</h1>"
   ]
  },
  {
   "cell_type": "markdown",
   "id": "c7b471d3",
   "metadata": {},
   "source": [
    "<h2>Removing Twitter Handles (@user)</h2>"
   ]
  },
  {
   "cell_type": "code",
   "execution_count": 6,
   "id": "58789323",
   "metadata": {},
   "outputs": [
    {
     "data": {
      "text/html": [
       "<div>\n",
       "<style scoped>\n",
       "    .dataframe tbody tr th:only-of-type {\n",
       "        vertical-align: middle;\n",
       "    }\n",
       "\n",
       "    .dataframe tbody tr th {\n",
       "        vertical-align: top;\n",
       "    }\n",
       "\n",
       "    .dataframe thead th {\n",
       "        text-align: right;\n",
       "    }\n",
       "</style>\n",
       "<table border=\"1\" class=\"dataframe\">\n",
       "  <thead>\n",
       "    <tr style=\"text-align: right;\">\n",
       "      <th></th>\n",
       "      <th>Tweet text</th>\n",
       "      <th>Label</th>\n",
       "      <th>Votes for the majority label</th>\n",
       "      <th>Clean Tweet text</th>\n",
       "    </tr>\n",
       "  </thead>\n",
       "  <tbody>\n",
       "    <tr>\n",
       "      <th>0</th>\n",
       "      <td>RT @Papapishu: Man it would fucking rule if we...</td>\n",
       "      <td>0</td>\n",
       "      <td>4</td>\n",
       "      <td>RT : Man it would fucking rule if we had a par...</td>\n",
       "    </tr>\n",
       "    <tr>\n",
       "      <th>1</th>\n",
       "      <td>It is time to draw close to Him &amp;#128591;&amp;#127...</td>\n",
       "      <td>1</td>\n",
       "      <td>4</td>\n",
       "      <td>It is time to draw close to Him &amp;#128591;&amp;#127...</td>\n",
       "    </tr>\n",
       "    <tr>\n",
       "      <th>2</th>\n",
       "      <td>if you notice me start to act different or dis...</td>\n",
       "      <td>1</td>\n",
       "      <td>5</td>\n",
       "      <td>if you notice me start to act different or dis...</td>\n",
       "    </tr>\n",
       "    <tr>\n",
       "      <th>3</th>\n",
       "      <td>Forget unfollowers, I believe in growing. 7 ne...</td>\n",
       "      <td>1</td>\n",
       "      <td>3</td>\n",
       "      <td>Forget unfollowers, I believe in growing. 7 ne...</td>\n",
       "    </tr>\n",
       "    <tr>\n",
       "      <th>4</th>\n",
       "      <td>RT @Vitiligoprince: Hate Being sexually Frustr...</td>\n",
       "      <td>0</td>\n",
       "      <td>4</td>\n",
       "      <td>RT : Hate Being sexually Frustrated Like I wan...</td>\n",
       "    </tr>\n",
       "    <tr>\n",
       "      <th>...</th>\n",
       "      <td>...</td>\n",
       "      <td>...</td>\n",
       "      <td>...</td>\n",
       "      <td>...</td>\n",
       "    </tr>\n",
       "    <tr>\n",
       "      <th>85961</th>\n",
       "      <td>RT @shangros: my fucking queen https://t.co/wa...</td>\n",
       "      <td>0</td>\n",
       "      <td>5</td>\n",
       "      <td>RT : my fucking queen https://t.co/waxzzoEWrA</td>\n",
       "    </tr>\n",
       "    <tr>\n",
       "      <th>85962</th>\n",
       "      <td>#Osteporosis treated with #PEMF - rebuild bone...</td>\n",
       "      <td>1</td>\n",
       "      <td>3</td>\n",
       "      <td>#Osteporosis treated with #PEMF - rebuild bone...</td>\n",
       "    </tr>\n",
       "    <tr>\n",
       "      <th>85963</th>\n",
       "      <td>@LGUSAMobile why does my phone screen keeps fl...</td>\n",
       "      <td>1</td>\n",
       "      <td>3</td>\n",
       "      <td>why does my phone screen keeps flickring i'm ...</td>\n",
       "    </tr>\n",
       "    <tr>\n",
       "      <th>85964</th>\n",
       "      <td>#bigdata vs. #reality ... but equally applies ...</td>\n",
       "      <td>1</td>\n",
       "      <td>5</td>\n",
       "      <td>#bigdata vs. #reality ... but equally applies ...</td>\n",
       "    </tr>\n",
       "    <tr>\n",
       "      <th>85965</th>\n",
       "      <td>you can do whatever you choose, if you first g...</td>\n",
       "      <td>1</td>\n",
       "      <td>5</td>\n",
       "      <td>you can do whatever you choose, if you first g...</td>\n",
       "    </tr>\n",
       "  </tbody>\n",
       "</table>\n",
       "<p>85966 rows × 4 columns</p>\n",
       "</div>"
      ],
      "text/plain": [
       "                                              Tweet text  Label  \\\n",
       "0      RT @Papapishu: Man it would fucking rule if we...      0   \n",
       "1      It is time to draw close to Him &#128591;&#127...      1   \n",
       "2      if you notice me start to act different or dis...      1   \n",
       "3      Forget unfollowers, I believe in growing. 7 ne...      1   \n",
       "4      RT @Vitiligoprince: Hate Being sexually Frustr...      0   \n",
       "...                                                  ...    ...   \n",
       "85961  RT @shangros: my fucking queen https://t.co/wa...      0   \n",
       "85962  #Osteporosis treated with #PEMF - rebuild bone...      1   \n",
       "85963  @LGUSAMobile why does my phone screen keeps fl...      1   \n",
       "85964  #bigdata vs. #reality ... but equally applies ...      1   \n",
       "85965  you can do whatever you choose, if you first g...      1   \n",
       "\n",
       "       Votes for the majority label  \\\n",
       "0                                 4   \n",
       "1                                 4   \n",
       "2                                 5   \n",
       "3                                 3   \n",
       "4                                 4   \n",
       "...                             ...   \n",
       "85961                             5   \n",
       "85962                             3   \n",
       "85963                             3   \n",
       "85964                             5   \n",
       "85965                             5   \n",
       "\n",
       "                                        Clean Tweet text  \n",
       "0      RT : Man it would fucking rule if we had a par...  \n",
       "1      It is time to draw close to Him &#128591;&#127...  \n",
       "2      if you notice me start to act different or dis...  \n",
       "3      Forget unfollowers, I believe in growing. 7 ne...  \n",
       "4      RT : Hate Being sexually Frustrated Like I wan...  \n",
       "...                                                  ...  \n",
       "85961      RT : my fucking queen https://t.co/waxzzoEWrA  \n",
       "85962  #Osteporosis treated with #PEMF - rebuild bone...  \n",
       "85963   why does my phone screen keeps flickring i'm ...  \n",
       "85964  #bigdata vs. #reality ... but equally applies ...  \n",
       "85965  you can do whatever you choose, if you first g...  \n",
       "\n",
       "[85966 rows x 4 columns]"
      ]
     },
     "execution_count": 6,
     "metadata": {},
     "output_type": "execute_result"
    }
   ],
   "source": [
    "def remove_pattern(input_txt, pattern):\n",
    "    r = re.findall(pattern, input_txt)\n",
    "    for i in r:\n",
    "        input_txt = re.sub(i, '', input_txt)\n",
    "        \n",
    "    return input_txt \n",
    "\n",
    "# remove twitter handles (@user)\n",
    "df['Clean Tweet text'] = np.vectorize(remove_pattern)(df['Tweet text'], \"@[\\w]*\")\n",
    "\n",
    "df"
   ]
  },
  {
   "cell_type": "markdown",
   "id": "f3f3270f",
   "metadata": {},
   "source": [
    "<h2>Remove links</h2>"
   ]
  },
  {
   "cell_type": "code",
   "execution_count": 7,
   "id": "3378e003",
   "metadata": {},
   "outputs": [
    {
     "name": "stderr",
     "output_type": "stream",
     "text": [
      "C:\\Users\\kostasm\\AppData\\Local\\Temp\\ipykernel_25068\\2283934705.py:1: FutureWarning: The default value of regex will change from True to False in a future version.\n",
      "  df['Clean Tweet text'] = df['Clean Tweet text'].str.replace(\"https?:\\/\\/.*[\\r\\n]*\", \" \")\n"
     ]
    },
    {
     "data": {
      "text/html": [
       "<div>\n",
       "<style scoped>\n",
       "    .dataframe tbody tr th:only-of-type {\n",
       "        vertical-align: middle;\n",
       "    }\n",
       "\n",
       "    .dataframe tbody tr th {\n",
       "        vertical-align: top;\n",
       "    }\n",
       "\n",
       "    .dataframe thead th {\n",
       "        text-align: right;\n",
       "    }\n",
       "</style>\n",
       "<table border=\"1\" class=\"dataframe\">\n",
       "  <thead>\n",
       "    <tr style=\"text-align: right;\">\n",
       "      <th></th>\n",
       "      <th>Tweet text</th>\n",
       "      <th>Label</th>\n",
       "      <th>Votes for the majority label</th>\n",
       "      <th>Clean Tweet text</th>\n",
       "    </tr>\n",
       "  </thead>\n",
       "  <tbody>\n",
       "    <tr>\n",
       "      <th>0</th>\n",
       "      <td>RT @Papapishu: Man it would fucking rule if we...</td>\n",
       "      <td>0</td>\n",
       "      <td>4</td>\n",
       "      <td>RT : Man it would fucking rule if we had a par...</td>\n",
       "    </tr>\n",
       "    <tr>\n",
       "      <th>1</th>\n",
       "      <td>It is time to draw close to Him &amp;#128591;&amp;#127...</td>\n",
       "      <td>1</td>\n",
       "      <td>4</td>\n",
       "      <td>It is time to draw close to Him &amp;#128591;&amp;#127...</td>\n",
       "    </tr>\n",
       "    <tr>\n",
       "      <th>2</th>\n",
       "      <td>if you notice me start to act different or dis...</td>\n",
       "      <td>1</td>\n",
       "      <td>5</td>\n",
       "      <td>if you notice me start to act different or dis...</td>\n",
       "    </tr>\n",
       "    <tr>\n",
       "      <th>3</th>\n",
       "      <td>Forget unfollowers, I believe in growing. 7 ne...</td>\n",
       "      <td>1</td>\n",
       "      <td>3</td>\n",
       "      <td>Forget unfollowers, I believe in growing. 7 ne...</td>\n",
       "    </tr>\n",
       "    <tr>\n",
       "      <th>4</th>\n",
       "      <td>RT @Vitiligoprince: Hate Being sexually Frustr...</td>\n",
       "      <td>0</td>\n",
       "      <td>4</td>\n",
       "      <td>RT : Hate Being sexually Frustrated Like I wan...</td>\n",
       "    </tr>\n",
       "    <tr>\n",
       "      <th>...</th>\n",
       "      <td>...</td>\n",
       "      <td>...</td>\n",
       "      <td>...</td>\n",
       "      <td>...</td>\n",
       "    </tr>\n",
       "    <tr>\n",
       "      <th>85961</th>\n",
       "      <td>RT @shangros: my fucking queen https://t.co/wa...</td>\n",
       "      <td>0</td>\n",
       "      <td>5</td>\n",
       "      <td>RT : my fucking queen</td>\n",
       "    </tr>\n",
       "    <tr>\n",
       "      <th>85962</th>\n",
       "      <td>#Osteporosis treated with #PEMF - rebuild bone...</td>\n",
       "      <td>1</td>\n",
       "      <td>3</td>\n",
       "      <td>#Osteporosis treated with #PEMF - rebuild bone...</td>\n",
       "    </tr>\n",
       "    <tr>\n",
       "      <th>85963</th>\n",
       "      <td>@LGUSAMobile why does my phone screen keeps fl...</td>\n",
       "      <td>1</td>\n",
       "      <td>3</td>\n",
       "      <td>why does my phone screen keeps flickring i'm ...</td>\n",
       "    </tr>\n",
       "    <tr>\n",
       "      <th>85964</th>\n",
       "      <td>#bigdata vs. #reality ... but equally applies ...</td>\n",
       "      <td>1</td>\n",
       "      <td>5</td>\n",
       "      <td>#bigdata vs. #reality ... but equally applies ...</td>\n",
       "    </tr>\n",
       "    <tr>\n",
       "      <th>85965</th>\n",
       "      <td>you can do whatever you choose, if you first g...</td>\n",
       "      <td>1</td>\n",
       "      <td>5</td>\n",
       "      <td>you can do whatever you choose, if you first g...</td>\n",
       "    </tr>\n",
       "  </tbody>\n",
       "</table>\n",
       "<p>85966 rows × 4 columns</p>\n",
       "</div>"
      ],
      "text/plain": [
       "                                              Tweet text  Label  \\\n",
       "0      RT @Papapishu: Man it would fucking rule if we...      0   \n",
       "1      It is time to draw close to Him &#128591;&#127...      1   \n",
       "2      if you notice me start to act different or dis...      1   \n",
       "3      Forget unfollowers, I believe in growing. 7 ne...      1   \n",
       "4      RT @Vitiligoprince: Hate Being sexually Frustr...      0   \n",
       "...                                                  ...    ...   \n",
       "85961  RT @shangros: my fucking queen https://t.co/wa...      0   \n",
       "85962  #Osteporosis treated with #PEMF - rebuild bone...      1   \n",
       "85963  @LGUSAMobile why does my phone screen keeps fl...      1   \n",
       "85964  #bigdata vs. #reality ... but equally applies ...      1   \n",
       "85965  you can do whatever you choose, if you first g...      1   \n",
       "\n",
       "       Votes for the majority label  \\\n",
       "0                                 4   \n",
       "1                                 4   \n",
       "2                                 5   \n",
       "3                                 3   \n",
       "4                                 4   \n",
       "...                             ...   \n",
       "85961                             5   \n",
       "85962                             3   \n",
       "85963                             3   \n",
       "85964                             5   \n",
       "85965                             5   \n",
       "\n",
       "                                        Clean Tweet text  \n",
       "0      RT : Man it would fucking rule if we had a par...  \n",
       "1      It is time to draw close to Him &#128591;&#127...  \n",
       "2      if you notice me start to act different or dis...  \n",
       "3      Forget unfollowers, I believe in growing. 7 ne...  \n",
       "4      RT : Hate Being sexually Frustrated Like I wan...  \n",
       "...                                                  ...  \n",
       "85961                            RT : my fucking queen    \n",
       "85962  #Osteporosis treated with #PEMF - rebuild bone...  \n",
       "85963   why does my phone screen keeps flickring i'm ...  \n",
       "85964  #bigdata vs. #reality ... but equally applies ...  \n",
       "85965  you can do whatever you choose, if you first g...  \n",
       "\n",
       "[85966 rows x 4 columns]"
      ]
     },
     "execution_count": 7,
     "metadata": {},
     "output_type": "execute_result"
    }
   ],
   "source": [
    "df['Clean Tweet text'] = df['Clean Tweet text'].str.replace(\"https?:\\/\\/.*[\\r\\n]*\", \" \")\n",
    "df"
   ]
  },
  {
   "cell_type": "markdown",
   "id": "dd93c5f2",
   "metadata": {},
   "source": [
    "<h2>Removing Punctuations, Numbers, and Special Characters</h2>"
   ]
  },
  {
   "cell_type": "code",
   "execution_count": 8,
   "id": "c2599089",
   "metadata": {},
   "outputs": [
    {
     "name": "stderr",
     "output_type": "stream",
     "text": [
      "C:\\Users\\kostasm\\AppData\\Local\\Temp\\ipykernel_25068\\1220127832.py:2: FutureWarning: The default value of regex will change from True to False in a future version.\n",
      "  df['Clean Tweet text'] = df['Clean Tweet text'].str.replace(\"[^a-zA-Z#]\", \" \")\n"
     ]
    },
    {
     "data": {
      "text/html": [
       "<div>\n",
       "<style scoped>\n",
       "    .dataframe tbody tr th:only-of-type {\n",
       "        vertical-align: middle;\n",
       "    }\n",
       "\n",
       "    .dataframe tbody tr th {\n",
       "        vertical-align: top;\n",
       "    }\n",
       "\n",
       "    .dataframe thead th {\n",
       "        text-align: right;\n",
       "    }\n",
       "</style>\n",
       "<table border=\"1\" class=\"dataframe\">\n",
       "  <thead>\n",
       "    <tr style=\"text-align: right;\">\n",
       "      <th></th>\n",
       "      <th>Tweet text</th>\n",
       "      <th>Label</th>\n",
       "      <th>Votes for the majority label</th>\n",
       "      <th>Clean Tweet text</th>\n",
       "    </tr>\n",
       "  </thead>\n",
       "  <tbody>\n",
       "    <tr>\n",
       "      <th>0</th>\n",
       "      <td>RT @Papapishu: Man it would fucking rule if we...</td>\n",
       "      <td>0</td>\n",
       "      <td>4</td>\n",
       "      <td>RT   Man it would fucking rule if we had a par...</td>\n",
       "    </tr>\n",
       "    <tr>\n",
       "      <th>1</th>\n",
       "      <td>It is time to draw close to Him &amp;#128591;&amp;#127...</td>\n",
       "      <td>1</td>\n",
       "      <td>4</td>\n",
       "      <td>It is time to draw close to Him  #        #   ...</td>\n",
       "    </tr>\n",
       "    <tr>\n",
       "      <th>2</th>\n",
       "      <td>if you notice me start to act different or dis...</td>\n",
       "      <td>1</td>\n",
       "      <td>5</td>\n",
       "      <td>if you notice me start to act different or dis...</td>\n",
       "    </tr>\n",
       "    <tr>\n",
       "      <th>3</th>\n",
       "      <td>Forget unfollowers, I believe in growing. 7 ne...</td>\n",
       "      <td>1</td>\n",
       "      <td>3</td>\n",
       "      <td>Forget unfollowers  I believe in growing    ne...</td>\n",
       "    </tr>\n",
       "    <tr>\n",
       "      <th>4</th>\n",
       "      <td>RT @Vitiligoprince: Hate Being sexually Frustr...</td>\n",
       "      <td>0</td>\n",
       "      <td>4</td>\n",
       "      <td>RT   Hate Being sexually Frustrated Like I wan...</td>\n",
       "    </tr>\n",
       "    <tr>\n",
       "      <th>...</th>\n",
       "      <td>...</td>\n",
       "      <td>...</td>\n",
       "      <td>...</td>\n",
       "      <td>...</td>\n",
       "    </tr>\n",
       "    <tr>\n",
       "      <th>85961</th>\n",
       "      <td>RT @shangros: my fucking queen https://t.co/wa...</td>\n",
       "      <td>0</td>\n",
       "      <td>5</td>\n",
       "      <td>RT   my fucking queen</td>\n",
       "    </tr>\n",
       "    <tr>\n",
       "      <th>85962</th>\n",
       "      <td>#Osteporosis treated with #PEMF - rebuild bone...</td>\n",
       "      <td>1</td>\n",
       "      <td>3</td>\n",
       "      <td>#Osteporosis treated with #PEMF   rebuild bone...</td>\n",
       "    </tr>\n",
       "    <tr>\n",
       "      <th>85963</th>\n",
       "      <td>@LGUSAMobile why does my phone screen keeps fl...</td>\n",
       "      <td>1</td>\n",
       "      <td>3</td>\n",
       "      <td>why does my phone screen keeps flickring i m ...</td>\n",
       "    </tr>\n",
       "    <tr>\n",
       "      <th>85964</th>\n",
       "      <td>#bigdata vs. #reality ... but equally applies ...</td>\n",
       "      <td>1</td>\n",
       "      <td>5</td>\n",
       "      <td>#bigdata vs  #reality     but equally applies ...</td>\n",
       "    </tr>\n",
       "    <tr>\n",
       "      <th>85965</th>\n",
       "      <td>you can do whatever you choose, if you first g...</td>\n",
       "      <td>1</td>\n",
       "      <td>5</td>\n",
       "      <td>you can do whatever you choose  if you first g...</td>\n",
       "    </tr>\n",
       "  </tbody>\n",
       "</table>\n",
       "<p>85966 rows × 4 columns</p>\n",
       "</div>"
      ],
      "text/plain": [
       "                                              Tweet text  Label  \\\n",
       "0      RT @Papapishu: Man it would fucking rule if we...      0   \n",
       "1      It is time to draw close to Him &#128591;&#127...      1   \n",
       "2      if you notice me start to act different or dis...      1   \n",
       "3      Forget unfollowers, I believe in growing. 7 ne...      1   \n",
       "4      RT @Vitiligoprince: Hate Being sexually Frustr...      0   \n",
       "...                                                  ...    ...   \n",
       "85961  RT @shangros: my fucking queen https://t.co/wa...      0   \n",
       "85962  #Osteporosis treated with #PEMF - rebuild bone...      1   \n",
       "85963  @LGUSAMobile why does my phone screen keeps fl...      1   \n",
       "85964  #bigdata vs. #reality ... but equally applies ...      1   \n",
       "85965  you can do whatever you choose, if you first g...      1   \n",
       "\n",
       "       Votes for the majority label  \\\n",
       "0                                 4   \n",
       "1                                 4   \n",
       "2                                 5   \n",
       "3                                 3   \n",
       "4                                 4   \n",
       "...                             ...   \n",
       "85961                             5   \n",
       "85962                             3   \n",
       "85963                             3   \n",
       "85964                             5   \n",
       "85965                             5   \n",
       "\n",
       "                                        Clean Tweet text  \n",
       "0      RT   Man it would fucking rule if we had a par...  \n",
       "1      It is time to draw close to Him  #        #   ...  \n",
       "2      if you notice me start to act different or dis...  \n",
       "3      Forget unfollowers  I believe in growing    ne...  \n",
       "4      RT   Hate Being sexually Frustrated Like I wan...  \n",
       "...                                                  ...  \n",
       "85961                            RT   my fucking queen    \n",
       "85962  #Osteporosis treated with #PEMF   rebuild bone...  \n",
       "85963   why does my phone screen keeps flickring i m ...  \n",
       "85964  #bigdata vs  #reality     but equally applies ...  \n",
       "85965  you can do whatever you choose  if you first g...  \n",
       "\n",
       "[85966 rows x 4 columns]"
      ]
     },
     "execution_count": 8,
     "metadata": {},
     "output_type": "execute_result"
    }
   ],
   "source": [
    "# remove special characters, numbers, punctuations\n",
    "df['Clean Tweet text'] = df['Clean Tweet text'].str.replace(\"[^a-zA-Z#]\", \" \")\n",
    "df"
   ]
  },
  {
   "cell_type": "markdown",
   "id": "04450af1",
   "metadata": {},
   "source": [
    "<h2>Removing Short Words</h2>"
   ]
  },
  {
   "cell_type": "code",
   "execution_count": 9,
   "id": "21ce6028",
   "metadata": {},
   "outputs": [
    {
     "data": {
      "text/html": [
       "<div>\n",
       "<style scoped>\n",
       "    .dataframe tbody tr th:only-of-type {\n",
       "        vertical-align: middle;\n",
       "    }\n",
       "\n",
       "    .dataframe tbody tr th {\n",
       "        vertical-align: top;\n",
       "    }\n",
       "\n",
       "    .dataframe thead th {\n",
       "        text-align: right;\n",
       "    }\n",
       "</style>\n",
       "<table border=\"1\" class=\"dataframe\">\n",
       "  <thead>\n",
       "    <tr style=\"text-align: right;\">\n",
       "      <th></th>\n",
       "      <th>Tweet text</th>\n",
       "      <th>Label</th>\n",
       "      <th>Votes for the majority label</th>\n",
       "      <th>Clean Tweet text</th>\n",
       "    </tr>\n",
       "  </thead>\n",
       "  <tbody>\n",
       "    <tr>\n",
       "      <th>0</th>\n",
       "      <td>RT @Papapishu: Man it would fucking rule if we...</td>\n",
       "      <td>0</td>\n",
       "      <td>4</td>\n",
       "      <td>would fucking rule party that against perpetua...</td>\n",
       "    </tr>\n",
       "    <tr>\n",
       "      <th>1</th>\n",
       "      <td>It is time to draw close to Him &amp;#128591;&amp;#127...</td>\n",
       "      <td>1</td>\n",
       "      <td>4</td>\n",
       "      <td>time draw close Father draw near always</td>\n",
       "    </tr>\n",
       "    <tr>\n",
       "      <th>2</th>\n",
       "      <td>if you notice me start to act different or dis...</td>\n",
       "      <td>1</td>\n",
       "      <td>5</td>\n",
       "      <td>notice start different distant peeped somethin...</td>\n",
       "    </tr>\n",
       "    <tr>\n",
       "      <th>3</th>\n",
       "      <td>Forget unfollowers, I believe in growing. 7 ne...</td>\n",
       "      <td>1</td>\n",
       "      <td>3</td>\n",
       "      <td>Forget unfollowers believe growing followers l...</td>\n",
       "    </tr>\n",
       "    <tr>\n",
       "      <th>4</th>\n",
       "      <td>RT @Vitiligoprince: Hate Being sexually Frustr...</td>\n",
       "      <td>0</td>\n",
       "      <td>4</td>\n",
       "      <td>Hate Being sexually Frustrated Like wanna Fuck...</td>\n",
       "    </tr>\n",
       "    <tr>\n",
       "      <th>...</th>\n",
       "      <td>...</td>\n",
       "      <td>...</td>\n",
       "      <td>...</td>\n",
       "      <td>...</td>\n",
       "    </tr>\n",
       "    <tr>\n",
       "      <th>85961</th>\n",
       "      <td>RT @shangros: my fucking queen https://t.co/wa...</td>\n",
       "      <td>0</td>\n",
       "      <td>5</td>\n",
       "      <td>fucking queen</td>\n",
       "    </tr>\n",
       "    <tr>\n",
       "      <th>85962</th>\n",
       "      <td>#Osteporosis treated with #PEMF - rebuild bone...</td>\n",
       "      <td>1</td>\n",
       "      <td>3</td>\n",
       "      <td>#Osteporosis treated with #PEMF rebuild bone mass</td>\n",
       "    </tr>\n",
       "    <tr>\n",
       "      <th>85963</th>\n",
       "      <td>@LGUSAMobile why does my phone screen keeps fl...</td>\n",
       "      <td>1</td>\n",
       "      <td>3</td>\n",
       "      <td>does phone screen keeps flickring that phone y...</td>\n",
       "    </tr>\n",
       "    <tr>\n",
       "      <th>85964</th>\n",
       "      <td>#bigdata vs. #reality ... but equally applies ...</td>\n",
       "      <td>1</td>\n",
       "      <td>5</td>\n",
       "      <td>#bigdata #reality equally applies #ecommerce p...</td>\n",
       "    </tr>\n",
       "    <tr>\n",
       "      <th>85965</th>\n",
       "      <td>you can do whatever you choose, if you first g...</td>\n",
       "      <td>1</td>\n",
       "      <td>5</td>\n",
       "      <td>whatever choose first know willing work with p...</td>\n",
       "    </tr>\n",
       "  </tbody>\n",
       "</table>\n",
       "<p>85966 rows × 4 columns</p>\n",
       "</div>"
      ],
      "text/plain": [
       "                                              Tweet text  Label  \\\n",
       "0      RT @Papapishu: Man it would fucking rule if we...      0   \n",
       "1      It is time to draw close to Him &#128591;&#127...      1   \n",
       "2      if you notice me start to act different or dis...      1   \n",
       "3      Forget unfollowers, I believe in growing. 7 ne...      1   \n",
       "4      RT @Vitiligoprince: Hate Being sexually Frustr...      0   \n",
       "...                                                  ...    ...   \n",
       "85961  RT @shangros: my fucking queen https://t.co/wa...      0   \n",
       "85962  #Osteporosis treated with #PEMF - rebuild bone...      1   \n",
       "85963  @LGUSAMobile why does my phone screen keeps fl...      1   \n",
       "85964  #bigdata vs. #reality ... but equally applies ...      1   \n",
       "85965  you can do whatever you choose, if you first g...      1   \n",
       "\n",
       "       Votes for the majority label  \\\n",
       "0                                 4   \n",
       "1                                 4   \n",
       "2                                 5   \n",
       "3                                 3   \n",
       "4                                 4   \n",
       "...                             ...   \n",
       "85961                             5   \n",
       "85962                             3   \n",
       "85963                             3   \n",
       "85964                             5   \n",
       "85965                             5   \n",
       "\n",
       "                                        Clean Tweet text  \n",
       "0      would fucking rule party that against perpetua...  \n",
       "1                time draw close Father draw near always  \n",
       "2      notice start different distant peeped somethin...  \n",
       "3      Forget unfollowers believe growing followers l...  \n",
       "4      Hate Being sexually Frustrated Like wanna Fuck...  \n",
       "...                                                  ...  \n",
       "85961                                      fucking queen  \n",
       "85962  #Osteporosis treated with #PEMF rebuild bone mass  \n",
       "85963  does phone screen keeps flickring that phone y...  \n",
       "85964  #bigdata #reality equally applies #ecommerce p...  \n",
       "85965  whatever choose first know willing work with p...  \n",
       "\n",
       "[85966 rows x 4 columns]"
      ]
     },
     "execution_count": 9,
     "metadata": {},
     "output_type": "execute_result"
    }
   ],
   "source": [
    "df['Clean Tweet text'] = df['Clean Tweet text'].apply(lambda x: ' '.join([w for w in x.split() if len(w)>3]))\n",
    "df"
   ]
  },
  {
   "cell_type": "markdown",
   "id": "82f7a9b2",
   "metadata": {},
   "source": [
    "<h2>Tokenization</h2>"
   ]
  },
  {
   "cell_type": "code",
   "execution_count": 10,
   "id": "52014c28",
   "metadata": {},
   "outputs": [
    {
     "data": {
      "text/plain": [
       "0        [would, fucking, rule, party, that, against, p...\n",
       "1          [time, draw, close, Father, draw, near, always]\n",
       "2        [notice, start, different, distant, peeped, so...\n",
       "3        [Forget, unfollowers, believe, growing, follow...\n",
       "4        [Hate, Being, sexually, Frustrated, Like, wann...\n",
       "                               ...                        \n",
       "85961                                     [fucking, queen]\n",
       "85962    [#Osteporosis, treated, with, #PEMF, rebuild, ...\n",
       "85963    [does, phone, screen, keeps, flickring, that, ...\n",
       "85964    [#bigdata, #reality, equally, applies, #ecomme...\n",
       "85965    [whatever, choose, first, know, willing, work,...\n",
       "Name: Clean Tweet text, Length: 85966, dtype: object"
      ]
     },
     "execution_count": 10,
     "metadata": {},
     "output_type": "execute_result"
    }
   ],
   "source": [
    "tokenized_tweets = df['Clean Tweet text'].apply(lambda x: x.split())\n",
    "tokenized_tweets"
   ]
  },
  {
   "cell_type": "markdown",
   "id": "ac917f9c",
   "metadata": {},
   "source": [
    "<h2>Stemming</h2>"
   ]
  },
  {
   "cell_type": "code",
   "execution_count": 11,
   "id": "3ce2df28",
   "metadata": {},
   "outputs": [
    {
     "data": {
      "text/plain": [
       "0        [would, fuck, rule, parti, that, against, perp...\n",
       "1           [time, draw, close, father, draw, near, alway]\n",
       "2        [notic, start, differ, distant, peep, someth, ...\n",
       "3        [forget, unfollow, believ, grow, follow, last,...\n",
       "4        [hate, be, sexual, frustrat, like, wanna, fuck...\n",
       "                               ...                        \n",
       "85961                                        [fuck, queen]\n",
       "85962    [#osteporosi, treat, with, #pemf, rebuild, bon...\n",
       "85963    [doe, phone, screen, keep, flickr, that, phone...\n",
       "85964    [#bigdata, #realiti, equal, appli, #ecommerc, ...\n",
       "85965    [whatev, choos, first, know, will, work, with,...\n",
       "Name: Clean Tweet text, Length: 85966, dtype: object"
      ]
     },
     "execution_count": 11,
     "metadata": {},
     "output_type": "execute_result"
    }
   ],
   "source": [
    "from nltk.stem.porter import *\n",
    "\n",
    "stemmer = PorterStemmer()\n",
    "\n",
    "tokenized_tweets = tokenized_tweets.apply(lambda x: [stemmer.stem(i) for i in x]) # stemming\n",
    "tokenized_tweets"
   ]
  },
  {
   "cell_type": "markdown",
   "id": "3473621f",
   "metadata": {},
   "source": [
    "<h2>Combine stemmed tweets to dataset</h2>"
   ]
  },
  {
   "cell_type": "code",
   "execution_count": 12,
   "id": "eea7eec7",
   "metadata": {},
   "outputs": [
    {
     "data": {
      "text/html": [
       "<div>\n",
       "<style scoped>\n",
       "    .dataframe tbody tr th:only-of-type {\n",
       "        vertical-align: middle;\n",
       "    }\n",
       "\n",
       "    .dataframe tbody tr th {\n",
       "        vertical-align: top;\n",
       "    }\n",
       "\n",
       "    .dataframe thead th {\n",
       "        text-align: right;\n",
       "    }\n",
       "</style>\n",
       "<table border=\"1\" class=\"dataframe\">\n",
       "  <thead>\n",
       "    <tr style=\"text-align: right;\">\n",
       "      <th></th>\n",
       "      <th>Tweet text</th>\n",
       "      <th>Label</th>\n",
       "      <th>Votes for the majority label</th>\n",
       "      <th>Clean Tweet text</th>\n",
       "    </tr>\n",
       "  </thead>\n",
       "  <tbody>\n",
       "    <tr>\n",
       "      <th>0</th>\n",
       "      <td>RT @Papapishu: Man it would fucking rule if we...</td>\n",
       "      <td>0</td>\n",
       "      <td>4</td>\n",
       "      <td>would fuck rule parti that against perpetu warfar</td>\n",
       "    </tr>\n",
       "    <tr>\n",
       "      <th>1</th>\n",
       "      <td>It is time to draw close to Him &amp;#128591;&amp;#127...</td>\n",
       "      <td>1</td>\n",
       "      <td>4</td>\n",
       "      <td>time draw close father draw near alway</td>\n",
       "    </tr>\n",
       "    <tr>\n",
       "      <th>2</th>\n",
       "      <td>if you notice me start to act different or dis...</td>\n",
       "      <td>1</td>\n",
       "      <td>5</td>\n",
       "      <td>notic start differ distant peep someth notic d...</td>\n",
       "    </tr>\n",
       "    <tr>\n",
       "      <th>3</th>\n",
       "      <td>Forget unfollowers, I believe in growing. 7 ne...</td>\n",
       "      <td>1</td>\n",
       "      <td>3</td>\n",
       "      <td>forget unfollow believ grow follow last stat</td>\n",
       "    </tr>\n",
       "    <tr>\n",
       "      <th>4</th>\n",
       "      <td>RT @Vitiligoprince: Hate Being sexually Frustr...</td>\n",
       "      <td>0</td>\n",
       "      <td>4</td>\n",
       "      <td>hate be sexual frustrat like wanna fuck wanna ...</td>\n",
       "    </tr>\n",
       "    <tr>\n",
       "      <th>...</th>\n",
       "      <td>...</td>\n",
       "      <td>...</td>\n",
       "      <td>...</td>\n",
       "      <td>...</td>\n",
       "    </tr>\n",
       "    <tr>\n",
       "      <th>85961</th>\n",
       "      <td>RT @shangros: my fucking queen https://t.co/wa...</td>\n",
       "      <td>0</td>\n",
       "      <td>5</td>\n",
       "      <td>fuck queen</td>\n",
       "    </tr>\n",
       "    <tr>\n",
       "      <th>85962</th>\n",
       "      <td>#Osteporosis treated with #PEMF - rebuild bone...</td>\n",
       "      <td>1</td>\n",
       "      <td>3</td>\n",
       "      <td>#osteporosi treat with #pemf rebuild bone mass</td>\n",
       "    </tr>\n",
       "    <tr>\n",
       "      <th>85963</th>\n",
       "      <td>@LGUSAMobile why does my phone screen keeps fl...</td>\n",
       "      <td>1</td>\n",
       "      <td>3</td>\n",
       "      <td>doe phone screen keep flickr that phone year b...</td>\n",
       "    </tr>\n",
       "    <tr>\n",
       "      <th>85964</th>\n",
       "      <td>#bigdata vs. #reality ... but equally applies ...</td>\n",
       "      <td>1</td>\n",
       "      <td>5</td>\n",
       "      <td>#bigdata #realiti equal appli #ecommerc project</td>\n",
       "    </tr>\n",
       "    <tr>\n",
       "      <th>85965</th>\n",
       "      <td>you can do whatever you choose, if you first g...</td>\n",
       "      <td>1</td>\n",
       "      <td>5</td>\n",
       "      <td>whatev choos first know will work with power t...</td>\n",
       "    </tr>\n",
       "  </tbody>\n",
       "</table>\n",
       "<p>85966 rows × 4 columns</p>\n",
       "</div>"
      ],
      "text/plain": [
       "                                              Tweet text  Label  \\\n",
       "0      RT @Papapishu: Man it would fucking rule if we...      0   \n",
       "1      It is time to draw close to Him &#128591;&#127...      1   \n",
       "2      if you notice me start to act different or dis...      1   \n",
       "3      Forget unfollowers, I believe in growing. 7 ne...      1   \n",
       "4      RT @Vitiligoprince: Hate Being sexually Frustr...      0   \n",
       "...                                                  ...    ...   \n",
       "85961  RT @shangros: my fucking queen https://t.co/wa...      0   \n",
       "85962  #Osteporosis treated with #PEMF - rebuild bone...      1   \n",
       "85963  @LGUSAMobile why does my phone screen keeps fl...      1   \n",
       "85964  #bigdata vs. #reality ... but equally applies ...      1   \n",
       "85965  you can do whatever you choose, if you first g...      1   \n",
       "\n",
       "       Votes for the majority label  \\\n",
       "0                                 4   \n",
       "1                                 4   \n",
       "2                                 5   \n",
       "3                                 3   \n",
       "4                                 4   \n",
       "...                             ...   \n",
       "85961                             5   \n",
       "85962                             3   \n",
       "85963                             3   \n",
       "85964                             5   \n",
       "85965                             5   \n",
       "\n",
       "                                        Clean Tweet text  \n",
       "0      would fuck rule parti that against perpetu warfar  \n",
       "1                 time draw close father draw near alway  \n",
       "2      notic start differ distant peep someth notic d...  \n",
       "3           forget unfollow believ grow follow last stat  \n",
       "4      hate be sexual frustrat like wanna fuck wanna ...  \n",
       "...                                                  ...  \n",
       "85961                                         fuck queen  \n",
       "85962     #osteporosi treat with #pemf rebuild bone mass  \n",
       "85963  doe phone screen keep flickr that phone year b...  \n",
       "85964    #bigdata #realiti equal appli #ecommerc project  \n",
       "85965  whatev choos first know will work with power t...  \n",
       "\n",
       "[85966 rows x 4 columns]"
      ]
     },
     "execution_count": 12,
     "metadata": {},
     "output_type": "execute_result"
    }
   ],
   "source": [
    "for i in range(len(tokenized_tweets)):\n",
    "    temp = ' '.join(tokenized_tweets[i])\n",
    "    tokenized_tweets[i] = temp\n",
    "\n",
    "df['Clean Tweet text'] = tokenized_tweets\n",
    "df"
   ]
  },
  {
   "cell_type": "markdown",
   "id": "c8ef7b76",
   "metadata": {},
   "source": [
    "<h1>Declare the preprocessing function</h1>\n",
    "<p>This function takes a string and applies several regular expressions on the string, in order to eliminate unecessary words.</p>"
   ]
  },
  {
   "cell_type": "code",
   "execution_count": 13,
   "id": "02af6c7c",
   "metadata": {},
   "outputs": [],
   "source": [
    "def preprocessing(text):\n",
    "    # Different regex parts for smiley faces\n",
    "    eyes = \"[8:=;]\"\n",
    "    nose = \"['`\\-]?\"\n",
    "\n",
    "    text = re.sub(r\"https?:\\/\\/\\S+\\b|www\\.(\\w+\\.)+\\S*\", \"<URL>\", text)\n",
    "    text = re.sub(r\"/\",\" / \", text)\n",
    "    text = re.sub(r\"@\\w+\", \"<USER>\", text)\n",
    "    text = re.sub(rf\"{eyes}{nose}\\)+|\\(+{nose}{eyes}\", \"<SMILE>\", text)\n",
    "    text = re.sub(rf\"{eyes}{nose}p+\", \"<LOLFACE>\", text)\n",
    "    text = re.sub(rf\"{eyes}{nose}\\(+|\\)+{nose}{eyes}\", \"<SADFACE>\", text)\n",
    "    text = re.sub(rf\"{eyes}{nose}[/|l]+\", \"<NEUTRALFACE>\", text)\n",
    "    text = re.sub(r\"<3\", \"<HEART>\", text)\n",
    "    text = re.sub(r\"[\\-\\+]?[.\\d]*[\\d]+[:,.\\d]*\", \"<NUMBER>\", text)\n",
    "    text = re.sub(r\"#\", \"<HASHTAG>\", text)\n",
    "    text = re.sub(r\"([!?.]){2,}\", r\"\\1 <REPEAT>\", text)\n",
    "    text = re.sub(r\"\\b(\\S*?)(.)\\2{2,}\\b\", r\"\\1\\2 <ELONG>\", text)\n",
    "    text = re.sub(r\"([^a-z0-9()<>'`\\-]){2,}\", r\"\\g<0> <ALLCAPS>\",text)\n",
    "    \n",
    "    return text"
   ]
  },
  {
   "cell_type": "markdown",
   "id": "ea04525c",
   "metadata": {},
   "source": [
    "<h1>Retrieve tweets text and apply the preprocessing function</h1>"
   ]
  },
  {
   "cell_type": "code",
   "execution_count": 14,
   "id": "4b985cb8",
   "metadata": {},
   "outputs": [],
   "source": [
    "text = df['Clean Tweet text'].tolist()\n",
    "for i, j in zip(text, range(len(text))):\n",
    "    text[j] = preprocessing(i)"
   ]
  },
  {
   "cell_type": "markdown",
   "id": "0d960665",
   "metadata": {},
   "source": [
    "<h1>Convert text to vector with CountVectorizer</h1>"
   ]
  },
  {
   "cell_type": "code",
   "execution_count": 15,
   "id": "70c29e83",
   "metadata": {},
   "outputs": [],
   "source": [
    "from sklearn.feature_extraction.text import CountVectorizer\n",
    "\n",
    "vectorizer = CountVectorizer(max_df=0.90, min_df=2, max_features=2000, stop_words='english')\n",
    "# bag-of-words feature matrix\n",
    "vectors = vectorizer.fit_transform(text)"
   ]
  },
  {
   "cell_type": "markdown",
   "id": "41c6ad04",
   "metadata": {},
   "source": [
    "<h1>Print info on vectorised text</h1>"
   ]
  },
  {
   "cell_type": "code",
   "execution_count": 16,
   "id": "5420cb31",
   "metadata": {},
   "outputs": [
    {
     "name": "stdout",
     "output_type": "stream",
     "text": [
      "(85966, 2000)\n",
      "<class 'scipy.sparse.csr.csr_matrix'>\n"
     ]
    }
   ],
   "source": [
    "# summarize encoded vector\n",
    "print(vectors.shape)\n",
    "print(type(vectors))"
   ]
  },
  {
   "cell_type": "markdown",
   "id": "1647b832",
   "metadata": {},
   "source": [
    "<h1>Check for PCA</h1>"
   ]
  },
  {
   "cell_type": "code",
   "execution_count": 17,
   "id": "7223e853",
   "metadata": {},
   "outputs": [
    {
     "data": {
      "image/png": "[encoded data removed]",
      "text/plain": [
       "<Figure size 432x288 with 1 Axes>"
      ]
     },
     "metadata": {
      "needs_background": "light"
     },
     "output_type": "display_data"
    }
   ],
   "source": [
    "from sklearn.decomposition import PCA\n",
    "\n",
    "# Load your data into a numpy array\n",
    "temp = np.asarray([np.reshape(i.A, 2000) for i in vectors])\n",
    "\n",
    "# Initialize a PCA object with the number of components you want to test\n",
    "pca = PCA(n_components=temp.shape[1])\n",
    "\n",
    "# Fit the PCA object to your data\n",
    "pca.fit(temp)\n",
    "\n",
    "# Plot the explained variance of each component\n",
    "import matplotlib.pyplot as plt\n",
    "plt.plot(range(1, temp.shape[1]+1), pca.explained_variance_ratio_.cumsum())\n",
    "plt.xlabel('Number of components')\n",
    "plt.ylabel('Cumulative explained variance')\n",
    "plt.show()"
   ]
  },
  {
   "cell_type": "markdown",
   "id": "e2a074ce",
   "metadata": {},
   "source": [
    "<h1>Create PCA model and transform the data</h1>\n",
    "<p> The PCA model is created using 50 components to keep at least a 70% similarity to the original data, and be able to reduce the time that each algorithm would require to finish.</p>"
   ]
  },
  {
   "cell_type": "code",
   "execution_count": 18,
   "id": "665b8a2b",
   "metadata": {},
   "outputs": [
    {
     "data": {
      "text/plain": [
       "(85966, 2)"
      ]
     },
     "execution_count": 18,
     "metadata": {},
     "output_type": "execute_result"
    }
   ],
   "source": [
    "x = np.asarray([np.reshape(i.A, 2000) for i in vectors])\n",
    "\n",
    "pca = PCA(2) \n",
    "\n",
    "x = pca.fit_transform(x)\n",
    "x.shape"
   ]
  },
  {
   "cell_type": "markdown",
   "id": "588d1070",
   "metadata": {},
   "source": [
    "<h1>Retrieve labels</h1>"
   ]
  },
  {
   "cell_type": "code",
   "execution_count": 19,
   "id": "c80df528",
   "metadata": {},
   "outputs": [],
   "source": [
    "y = df['Label'].tolist()"
   ]
  },
  {
   "cell_type": "markdown",
   "id": "dc1858fc",
   "metadata": {},
   "source": [
    "<h1>Create Clustering Models</h1>"
   ]
  },
  {
   "cell_type": "markdown",
   "id": "c04350df",
   "metadata": {},
   "source": [
    "<h2>KMeans</h2>"
   ]
  },
  {
   "cell_type": "code",
   "execution_count": 20,
   "id": "e8e456d4",
   "metadata": {},
   "outputs": [],
   "source": [
    "from sklearn.cluster import KMeans\n",
    "\n",
    "kmeans = KMeans(n_clusters=2, random_state=0).fit(x)\n",
    "kmeans_labels = kmeans.labels_"
   ]
  },
  {
   "cell_type": "markdown",
   "id": "4d0624cb",
   "metadata": {},
   "source": [
    "<h2>Agglomerative Clustering</h2>"
   ]
  },
  {
   "cell_type": "code",
   "execution_count": 22,
   "id": "03608675",
   "metadata": {},
   "outputs": [
    {
     "ename": "MemoryError",
     "evalue": "Unable to allocate 27.5 GiB for an array with shape (3695033595,) and data type float64",
     "output_type": "error",
     "traceback": [
      "\u001b[1;31m---------------------------------------------------------------------------\u001b[0m",
      "\u001b[1;31mMemoryError\u001b[0m                               Traceback (most recent call last)",
      "Input \u001b[1;32mIn [22]\u001b[0m, in \u001b[0;36m<cell line: 3>\u001b[1;34m()\u001b[0m\n\u001b[0;32m      1\u001b[0m \u001b[38;5;28;01mfrom\u001b[39;00m \u001b[38;5;21;01msklearn\u001b[39;00m\u001b[38;5;21;01m.\u001b[39;00m\u001b[38;5;21;01mcluster\u001b[39;00m \u001b[38;5;28;01mimport\u001b[39;00m AgglomerativeClustering\n\u001b[1;32m----> 3\u001b[0m clustering \u001b[38;5;241m=\u001b[39m \u001b[43mAgglomerativeClustering\u001b[49m\u001b[43m(\u001b[49m\u001b[43m)\u001b[49m\u001b[38;5;241;43m.\u001b[39;49m\u001b[43mfit\u001b[49m\u001b[43m(\u001b[49m\u001b[43mx\u001b[49m\u001b[43m)\u001b[49m\n\u001b[0;32m      4\u001b[0m ac_labels \u001b[38;5;241m=\u001b[39m clustering\u001b[38;5;241m.\u001b[39mlabels_\n",
      "File \u001b[1;32m~\\Anaconda3\\lib\\site-packages\\sklearn\\cluster\\_agglomerative.py:918\u001b[0m, in \u001b[0;36mAgglomerativeClustering.fit\u001b[1;34m(self, X, y)\u001b[0m\n\u001b[0;32m    900\u001b[0m \u001b[38;5;124;03m\"\"\"Fit the hierarchical clustering from features, or distance matrix.\u001b[39;00m\n\u001b[0;32m    901\u001b[0m \n\u001b[0;32m    902\u001b[0m \u001b[38;5;124;03mParameters\u001b[39;00m\n\u001b[1;32m   (...)\u001b[0m\n\u001b[0;32m    915\u001b[0m \u001b[38;5;124;03m    Returns the fitted instance.\u001b[39;00m\n\u001b[0;32m    916\u001b[0m \u001b[38;5;124;03m\"\"\"\u001b[39;00m\n\u001b[0;32m    917\u001b[0m X \u001b[38;5;241m=\u001b[39m \u001b[38;5;28mself\u001b[39m\u001b[38;5;241m.\u001b[39m_validate_data(X, ensure_min_samples\u001b[38;5;241m=\u001b[39m\u001b[38;5;241m2\u001b[39m, estimator\u001b[38;5;241m=\u001b[39m\u001b[38;5;28mself\u001b[39m)\n\u001b[1;32m--> 918\u001b[0m \u001b[38;5;28;01mreturn\u001b[39;00m \u001b[38;5;28;43mself\u001b[39;49m\u001b[38;5;241;43m.\u001b[39;49m\u001b[43m_fit\u001b[49m\u001b[43m(\u001b[49m\u001b[43mX\u001b[49m\u001b[43m)\u001b[49m\n",
      "File \u001b[1;32m~\\Anaconda3\\lib\\site-packages\\sklearn\\cluster\\_agglomerative.py:1001\u001b[0m, in \u001b[0;36mAgglomerativeClustering._fit\u001b[1;34m(self, X)\u001b[0m\n\u001b[0;32m    997\u001b[0m distance_threshold \u001b[38;5;241m=\u001b[39m \u001b[38;5;28mself\u001b[39m\u001b[38;5;241m.\u001b[39mdistance_threshold\n\u001b[0;32m    999\u001b[0m return_distance \u001b[38;5;241m=\u001b[39m (distance_threshold \u001b[38;5;129;01mis\u001b[39;00m \u001b[38;5;129;01mnot\u001b[39;00m \u001b[38;5;28;01mNone\u001b[39;00m) \u001b[38;5;129;01mor\u001b[39;00m \u001b[38;5;28mself\u001b[39m\u001b[38;5;241m.\u001b[39mcompute_distances\n\u001b[1;32m-> 1001\u001b[0m out \u001b[38;5;241m=\u001b[39m memory\u001b[38;5;241m.\u001b[39mcache(tree_builder)(\n\u001b[0;32m   1002\u001b[0m     X,\n\u001b[0;32m   1003\u001b[0m     connectivity\u001b[38;5;241m=\u001b[39mconnectivity,\n\u001b[0;32m   1004\u001b[0m     n_clusters\u001b[38;5;241m=\u001b[39mn_clusters,\n\u001b[0;32m   1005\u001b[0m     return_distance\u001b[38;5;241m=\u001b[39mreturn_distance,\n\u001b[0;32m   1006\u001b[0m     \u001b[38;5;241m*\u001b[39m\u001b[38;5;241m*\u001b[39mkwargs,\n\u001b[0;32m   1007\u001b[0m )\n\u001b[0;32m   1008\u001b[0m (\u001b[38;5;28mself\u001b[39m\u001b[38;5;241m.\u001b[39mchildren_, \u001b[38;5;28mself\u001b[39m\u001b[38;5;241m.\u001b[39mn_connected_components_, \u001b[38;5;28mself\u001b[39m\u001b[38;5;241m.\u001b[39mn_leaves_, parents) \u001b[38;5;241m=\u001b[39m out[\n\u001b[0;32m   1009\u001b[0m     :\u001b[38;5;241m4\u001b[39m\n\u001b[0;32m   1010\u001b[0m ]\n\u001b[0;32m   1012\u001b[0m \u001b[38;5;28;01mif\u001b[39;00m return_distance:\n",
      "File \u001b[1;32m~\\Anaconda3\\lib\\site-packages\\joblib\\memory.py:349\u001b[0m, in \u001b[0;36mNotMemorizedFunc.__call__\u001b[1;34m(self, *args, **kwargs)\u001b[0m\n\u001b[0;32m    348\u001b[0m \u001b[38;5;28;01mdef\u001b[39;00m \u001b[38;5;21m__call__\u001b[39m(\u001b[38;5;28mself\u001b[39m, \u001b[38;5;241m*\u001b[39margs, \u001b[38;5;241m*\u001b[39m\u001b[38;5;241m*\u001b[39mkwargs):\n\u001b[1;32m--> 349\u001b[0m     \u001b[38;5;28;01mreturn\u001b[39;00m \u001b[38;5;28mself\u001b[39m\u001b[38;5;241m.\u001b[39mfunc(\u001b[38;5;241m*\u001b[39margs, \u001b[38;5;241m*\u001b[39m\u001b[38;5;241m*\u001b[39mkwargs)\n",
      "File \u001b[1;32m~\\Anaconda3\\lib\\site-packages\\sklearn\\cluster\\_agglomerative.py:271\u001b[0m, in \u001b[0;36mward_tree\u001b[1;34m(X, connectivity, n_clusters, return_distance)\u001b[0m\n\u001b[0;32m    261\u001b[0m     warnings\u001b[38;5;241m.\u001b[39mwarn(\n\u001b[0;32m    262\u001b[0m         \u001b[38;5;124m\"\u001b[39m\u001b[38;5;124mPartial build of the tree is implemented \u001b[39m\u001b[38;5;124m\"\u001b[39m\n\u001b[0;32m    263\u001b[0m         \u001b[38;5;124m\"\u001b[39m\u001b[38;5;124monly for structured clustering (i.e. with \u001b[39m\u001b[38;5;124m\"\u001b[39m\n\u001b[1;32m   (...)\u001b[0m\n\u001b[0;32m    268\u001b[0m         stacklevel\u001b[38;5;241m=\u001b[39m\u001b[38;5;241m2\u001b[39m,\n\u001b[0;32m    269\u001b[0m     )\n\u001b[0;32m    270\u001b[0m X \u001b[38;5;241m=\u001b[39m np\u001b[38;5;241m.\u001b[39mrequire(X, requirements\u001b[38;5;241m=\u001b[39m\u001b[38;5;124m\"\u001b[39m\u001b[38;5;124mW\u001b[39m\u001b[38;5;124m\"\u001b[39m)\n\u001b[1;32m--> 271\u001b[0m out \u001b[38;5;241m=\u001b[39m \u001b[43mhierarchy\u001b[49m\u001b[38;5;241;43m.\u001b[39;49m\u001b[43mward\u001b[49m\u001b[43m(\u001b[49m\u001b[43mX\u001b[49m\u001b[43m)\u001b[49m\n\u001b[0;32m    272\u001b[0m children_ \u001b[38;5;241m=\u001b[39m out[:, :\u001b[38;5;241m2\u001b[39m]\u001b[38;5;241m.\u001b[39mastype(np\u001b[38;5;241m.\u001b[39mintp)\n\u001b[0;32m    274\u001b[0m \u001b[38;5;28;01mif\u001b[39;00m return_distance:\n",
      "File \u001b[1;32m~\\Anaconda3\\lib\\site-packages\\scipy\\cluster\\hierarchy.py:834\u001b[0m, in \u001b[0;36mward\u001b[1;34m(y)\u001b[0m\n\u001b[0;32m    738\u001b[0m \u001b[38;5;28;01mdef\u001b[39;00m \u001b[38;5;21mward\u001b[39m(y):\n\u001b[0;32m    739\u001b[0m     \u001b[38;5;124;03m\"\"\"\u001b[39;00m\n\u001b[0;32m    740\u001b[0m \u001b[38;5;124;03m    Perform Ward's linkage on a condensed distance matrix.\u001b[39;00m\n\u001b[0;32m    741\u001b[0m \n\u001b[1;32m   (...)\u001b[0m\n\u001b[0;32m    832\u001b[0m \n\u001b[0;32m    833\u001b[0m \u001b[38;5;124;03m    \"\"\"\u001b[39;00m\n\u001b[1;32m--> 834\u001b[0m     \u001b[38;5;28;01mreturn\u001b[39;00m \u001b[43mlinkage\u001b[49m\u001b[43m(\u001b[49m\u001b[43my\u001b[49m\u001b[43m,\u001b[49m\u001b[43m \u001b[49m\u001b[43mmethod\u001b[49m\u001b[38;5;241;43m=\u001b[39;49m\u001b[38;5;124;43m'\u001b[39;49m\u001b[38;5;124;43mward\u001b[39;49m\u001b[38;5;124;43m'\u001b[39;49m\u001b[43m,\u001b[49m\u001b[43m \u001b[49m\u001b[43mmetric\u001b[49m\u001b[38;5;241;43m=\u001b[39;49m\u001b[38;5;124;43m'\u001b[39;49m\u001b[38;5;124;43meuclidean\u001b[39;49m\u001b[38;5;124;43m'\u001b[39;49m\u001b[43m)\u001b[49m\n",
      "File \u001b[1;32m~\\Anaconda3\\lib\\site-packages\\scipy\\cluster\\hierarchy.py:1060\u001b[0m, in \u001b[0;36mlinkage\u001b[1;34m(y, method, metric, optimal_ordering)\u001b[0m\n\u001b[0;32m   1056\u001b[0m         \u001b[38;5;28;01mif\u001b[39;00m np\u001b[38;5;241m.\u001b[39mall(y \u001b[38;5;241m>\u001b[39m\u001b[38;5;241m=\u001b[39m \u001b[38;5;241m0\u001b[39m) \u001b[38;5;129;01mand\u001b[39;00m np\u001b[38;5;241m.\u001b[39mallclose(y, y\u001b[38;5;241m.\u001b[39mT):\n\u001b[0;32m   1057\u001b[0m             _warning(\u001b[38;5;124m'\u001b[39m\u001b[38;5;124mThe symmetric non-negative hollow observation \u001b[39m\u001b[38;5;124m'\u001b[39m\n\u001b[0;32m   1058\u001b[0m                      \u001b[38;5;124m'\u001b[39m\u001b[38;5;124mmatrix looks suspiciously like an uncondensed \u001b[39m\u001b[38;5;124m'\u001b[39m\n\u001b[0;32m   1059\u001b[0m                      \u001b[38;5;124m'\u001b[39m\u001b[38;5;124mdistance matrix\u001b[39m\u001b[38;5;124m'\u001b[39m)\n\u001b[1;32m-> 1060\u001b[0m     y \u001b[38;5;241m=\u001b[39m \u001b[43mdistance\u001b[49m\u001b[38;5;241;43m.\u001b[39;49m\u001b[43mpdist\u001b[49m\u001b[43m(\u001b[49m\u001b[43my\u001b[49m\u001b[43m,\u001b[49m\u001b[43m \u001b[49m\u001b[43mmetric\u001b[49m\u001b[43m)\u001b[49m\n\u001b[0;32m   1061\u001b[0m \u001b[38;5;28;01melse\u001b[39;00m:\n\u001b[0;32m   1062\u001b[0m     \u001b[38;5;28;01mraise\u001b[39;00m \u001b[38;5;167;01mValueError\u001b[39;00m(\u001b[38;5;124m\"\u001b[39m\u001b[38;5;124m`y` must be 1 or 2 dimensional.\u001b[39m\u001b[38;5;124m\"\u001b[39m)\n",
      "File \u001b[1;32m~\\Anaconda3\\lib\\site-packages\\scipy\\spatial\\distance.py:2250\u001b[0m, in \u001b[0;36mpdist\u001b[1;34m(X, metric, out, **kwargs)\u001b[0m\n\u001b[0;32m   2248\u001b[0m \u001b[38;5;28;01mif\u001b[39;00m metric_info \u001b[38;5;129;01mis\u001b[39;00m \u001b[38;5;129;01mnot\u001b[39;00m \u001b[38;5;28;01mNone\u001b[39;00m:\n\u001b[0;32m   2249\u001b[0m     pdist_fn \u001b[38;5;241m=\u001b[39m metric_info\u001b[38;5;241m.\u001b[39mpdist_func\n\u001b[1;32m-> 2250\u001b[0m     \u001b[38;5;28;01mreturn\u001b[39;00m pdist_fn(X, out\u001b[38;5;241m=\u001b[39mout, \u001b[38;5;241m*\u001b[39m\u001b[38;5;241m*\u001b[39mkwargs)\n\u001b[0;32m   2251\u001b[0m \u001b[38;5;28;01melif\u001b[39;00m mstr\u001b[38;5;241m.\u001b[39mstartswith(\u001b[38;5;124m\"\u001b[39m\u001b[38;5;124mtest_\u001b[39m\u001b[38;5;124m\"\u001b[39m):\n\u001b[0;32m   2252\u001b[0m     metric_info \u001b[38;5;241m=\u001b[39m _TEST_METRICS\u001b[38;5;241m.\u001b[39mget(mstr, \u001b[38;5;28;01mNone\u001b[39;00m)\n",
      "\u001b[1;31mMemoryError\u001b[0m: Unable to allocate 27.5 GiB for an array with shape (3695033595,) and data type float64"
     ]
    }
   ],
   "source": [
    "from sklearn.cluster import AgglomerativeClustering\n",
    "\n",
    "clustering = AgglomerativeClustering().fit(x)\n",
    "ac_labels = clustering.labels_"
   ]
  },
  {
   "cell_type": "markdown",
   "id": "73ffac35",
   "metadata": {},
   "source": [
    "<h2>OPTICS</h2>"
   ]
  },
  {
   "cell_type": "code",
   "execution_count": 24,
   "id": "a5c031e8",
   "metadata": {},
   "outputs": [],
   "source": [
    "from sklearn.cluster import OPTICS\n",
    "\n",
    "clustering = OPTICS(min_samples=10000).fit(x)\n",
    "optics_labels = clustering.labels_"
   ]
  },
  {
   "cell_type": "markdown",
   "id": "b50621e0",
   "metadata": {},
   "source": [
    "<h2>Birch</h2>"
   ]
  },
  {
   "cell_type": "code",
   "execution_count": 25,
   "id": "2204ca4d",
   "metadata": {},
   "outputs": [],
   "source": [
    "from sklearn.cluster import Birch\n",
    "\n",
    "brc = Birch(n_clusters=2).fit(x)\n",
    "birch_labels = brc.labels_"
   ]
  },
  {
   "cell_type": "markdown",
   "id": "568b521e",
   "metadata": {},
   "source": [
    "<h2>DBScan</h2>"
   ]
  },
  {
   "cell_type": "code",
   "execution_count": null,
   "id": "445ebed1",
   "metadata": {},
   "outputs": [],
   "source": [
    "from sklearn.cluster import DBSCAN\n",
    "\n",
    "dbscan = DBSCAN(eps=0.9, min_samples=20).fit(x)\n",
    "dbscan_labels = dbscan.labels_"
   ]
  },
  {
   "cell_type": "markdown",
   "id": "409004e7",
   "metadata": {},
   "source": [
    "<h1>Retrieving metrics for each algorithm</h1>"
   ]
  },
  {
   "cell_type": "markdown",
   "id": "22ed889e",
   "metadata": {},
   "source": [
    "<h2>2.3.10.1. Rand index</h2>"
   ]
  },
  {
   "cell_type": "code",
   "execution_count": null,
   "id": "8ab9f0b5",
   "metadata": {},
   "outputs": [],
   "source": [
    "from sklearn import metrics\n",
    "\n",
    "rand_score_kmeans = metrics.adjusted_rand_score(y, kmeans_labels)\n",
    "rand_score_ac = metrics.adjusted_rand_score(y, ac_labels)\n",
    "rand_score_optics = metrics.adjusted_rand_score(y, optics_labels)\n",
    "rand_score_birch = metrics.adjusted_rand_score(y, birch_labels)\n",
    "rand_score_dbscan = metrics.adjusted_rand_score(y, dbscan_labels)"
   ]
  },
  {
   "cell_type": "markdown",
   "id": "56039f11",
   "metadata": {},
   "source": [
    "<h2>2.3.10.2. Mutual Information based scores</h2>"
   ]
  },
  {
   "cell_type": "code",
   "execution_count": null,
   "id": "6ca1ca6a",
   "metadata": {},
   "outputs": [],
   "source": [
    "info_score_kmeans = metrics.adjusted_mutual_info_score(y, kmeans_labels)\n",
    "info_score_ac = metrics.adjusted_mutual_info_score(y, ac_labels)\n",
    "info_score_optics = metrics.adjusted_mutual_info_score(y, optics_labels)\n",
    "info_score_birch = metrics.adjusted_mutual_info_score(y, birch_labels)\n",
    "info_score_dbscan = metrics.adjusted_mutual_info_score(y, dbscan_labels)"
   ]
  },
  {
   "cell_type": "markdown",
   "id": "f26b5ba4",
   "metadata": {},
   "source": [
    "<h2>2.3.10.3. Homogeneity, completeness and V-measure</h2>"
   ]
  },
  {
   "cell_type": "code",
   "execution_count": null,
   "id": "d37238b3",
   "metadata": {},
   "outputs": [],
   "source": [
    "homogeneity_kmeans = metrics.homogeneity_score(y, kmeans_labels)\n",
    "homogeneity_ac     = metrics.homogeneity_score(y, ac_labels)\n",
    "homogeneity_optics = metrics.homogeneity_score(y, optics_labels)\n",
    "homogeneity_birch  = metrics.homogeneity_score(y, birch_labels)\n",
    "homogeneity_dbscan = metrics.homogeneity_score(y, dbscan_labels)"
   ]
  },
  {
   "cell_type": "code",
   "execution_count": null,
   "id": "26ff6383",
   "metadata": {},
   "outputs": [],
   "source": [
    "completeness_kmeans = metrics.completeness_score(y, kmeans_labels)\n",
    "completeness_ac     = metrics.completeness_score(y, ac_labels)\n",
    "completeness_optics = metrics.completeness_score(y, optics_labels)\n",
    "completeness_birch  = metrics.completeness_score(y, birch_labels)\n",
    "completeness_dbscan = metrics.completeness_score(y, dbscan_labels)"
   ]
  },
  {
   "cell_type": "code",
   "execution_count": null,
   "id": "3d1c88f1",
   "metadata": {},
   "outputs": [],
   "source": [
    "v_measure_kmeans = metrics.v_measure_score(y, kmeans_labels)\n",
    "v_measure_ac     = metrics.v_measure_score(y, ac_labels)\n",
    "v_measure_optics = metrics.v_measure_score(y, optics_labels)\n",
    "v_measure_birch  = metrics.v_measure_score(y, birch_labels)\n",
    "v_measure_dbscan = metrics.v_measure_score(y, dbscan_labels)"
   ]
  },
  {
   "cell_type": "markdown",
   "id": "7ba1de8e",
   "metadata": {},
   "source": [
    "<h2>2.3.10.4. Fowlkes-Mallows scores</h2>"
   ]
  },
  {
   "cell_type": "code",
   "execution_count": null,
   "id": "902b90ee",
   "metadata": {},
   "outputs": [],
   "source": [
    "fm_kmeans = metrics.fowlkes_mallows_score(y, kmeans_labels)\n",
    "fm_ac     = metrics.fowlkes_mallows_score(y, ac_labels)\n",
    "fm_optics = metrics.fowlkes_mallows_score(y, optics_labels)\n",
    "fm_birch  = metrics.fowlkes_mallows_score(y, birch_labels)\n",
    "fm_dbscan = metrics.fowlkes_mallows_score(y, dbscan_labels)"
   ]
  },
  {
   "cell_type": "markdown",
   "id": "b9667098",
   "metadata": {},
   "source": [
    "<h2>2.3.10.5. Silhouette Coefficient</h2>"
   ]
  },
  {
   "cell_type": "code",
   "execution_count": null,
   "id": "3f8fe6ea",
   "metadata": {},
   "outputs": [],
   "source": [
    "silhouette_kmeans = metrics.silhouette_score(x, kmeans_labels, metric='euclidean')\n",
    "silhouette_ac     = metrics.silhouette_score(x, ac_labels, metric='euclidean')\n",
    "silhouette_optics = metrics.silhouette_score(x, optics_labels, metric='euclidean')\n",
    "silhouette_birch  = metrics.silhouette_score(x, birch_labels, metric='euclidean')\n",
    "silhouette_dbscan = metrics.silhouette_score(x, dbscan_labels, metric='euclidean')"
   ]
  },
  {
   "cell_type": "markdown",
   "id": "cc1704e7",
   "metadata": {},
   "source": [
    "<h2>2.3.10.6. Calinski-Harabasz Index</h2>"
   ]
  },
  {
   "cell_type": "code",
   "execution_count": null,
   "id": "7c13923a",
   "metadata": {},
   "outputs": [],
   "source": [
    "ch_kmeans = metrics.calinski_harabasz_score(x, kmeans_labels)\n",
    "ch_ac     = metrics.calinski_harabasz_score(x, ac_labels)\n",
    "ch_optics = metrics.calinski_harabasz_score(x, optics_labels)\n",
    "ch_birch  = metrics.calinski_harabasz_score(x, birch_labels)\n",
    "ch_dbscan = metrics.calinski_harabasz_score(x, dbscan_labels)"
   ]
  },
  {
   "cell_type": "markdown",
   "id": "503feabd",
   "metadata": {},
   "source": [
    "<h2>2.3.10.7. Davies-Bouldin Index</h2>"
   ]
  },
  {
   "cell_type": "code",
   "execution_count": null,
   "id": "1c7e2d78",
   "metadata": {},
   "outputs": [],
   "source": [
    "db_kmeans = metrics.davies_bouldin_score(x, kmeans_labels)\n",
    "db_ac     = metrics.davies_bouldin_score(x, ac_labels)\n",
    "db_optics = metrics.davies_bouldin_score(x, optics_labels)\n",
    "db_birch  = metrics.davies_bouldin_score(x, birch_labels)\n",
    "db_dbscan = metrics.davies_bouldin_score(x, dbscan_labels)"
   ]
  },
  {
   "cell_type": "markdown",
   "id": "d484391e",
   "metadata": {},
   "source": [
    "<h2>2.3.10.8. Contingency Matrix</h2>"
   ]
  },
  {
   "cell_type": "markdown",
   "id": "6215bf19",
   "metadata": {},
   "source": [
    "<h3>KMeans</h3>"
   ]
  },
  {
   "cell_type": "code",
   "execution_count": null,
   "id": "0d058400",
   "metadata": {},
   "outputs": [],
   "source": [
    "import seaborn as sns\n",
    "\n",
    "cm = metrics.cluster.pair_confusion_matrix(y, kmeans_labels)\n",
    "\n",
    "plt.figure(figsize=(9,9))\n",
    "sns.heatmap(cm, annot=True, fmt=\".0f\", linewidths=.5, square = True, cmap = 'Blues_r')\n",
    "plt.ylabel('Actual label')\n",
    "plt.xlabel('Predicted label')"
   ]
  },
  {
   "cell_type": "markdown",
   "id": "54498bae",
   "metadata": {},
   "source": [
    "<h3>Agglomerative Clustering</h3>"
   ]
  },
  {
   "cell_type": "code",
   "execution_count": null,
   "id": "39990b1e",
   "metadata": {},
   "outputs": [],
   "source": [
    "cm = metrics.cluster.pair_confusion_matrix(y, ac_labels)\n",
    "\n",
    "plt.figure(figsize=(9,9))\n",
    "sns.heatmap(cm, annot=True, fmt=\".0f\", linewidths=.5, square = True, cmap = 'Blues_r')\n",
    "plt.ylabel('Actual label')\n",
    "plt.xlabel('Predicted label')"
   ]
  },
  {
   "cell_type": "markdown",
   "id": "5c5991eb",
   "metadata": {},
   "source": [
    "<h3>OPTICS</h3>"
   ]
  },
  {
   "cell_type": "code",
   "execution_count": null,
   "id": "f80e0f23",
   "metadata": {},
   "outputs": [],
   "source": [
    "cm = metrics.cluster.pair_confusion_matrix(y, optics_labels)\n",
    "\n",
    "plt.figure(figsize=(9,9))\n",
    "sns.heatmap(cm, annot=True, fmt=\".0f\", linewidths=.5, square = True, cmap = 'Blues_r')\n",
    "plt.ylabel('Actual label')\n",
    "plt.xlabel('Predicted label')"
   ]
  },
  {
   "cell_type": "markdown",
   "id": "ab8e8d08",
   "metadata": {},
   "source": [
    "<h3>Birch</h3>"
   ]
  },
  {
   "cell_type": "code",
   "execution_count": null,
   "id": "869a20b1",
   "metadata": {},
   "outputs": [],
   "source": [
    "cm = metrics.cluster.pair_confusion_matrix(y, birch_labels)\n",
    "\n",
    "plt.figure(figsize=(9,9))\n",
    "sns.heatmap(cm, annot=True, fmt=\".0f\", linewidths=.5, square = True, cmap = 'Blues_r')\n",
    "plt.ylabel('Actual label')\n",
    "plt.xlabel('Predicted label')"
   ]
  },
  {
   "cell_type": "markdown",
   "id": "2a724831",
   "metadata": {},
   "source": [
    "<h3>DBScan</h3>"
   ]
  },
  {
   "cell_type": "code",
   "execution_count": null,
   "id": "844d294e",
   "metadata": {},
   "outputs": [],
   "source": [
    "cm = metrics.cluster.pair_confusion_matrix(y, dbscan_labels)\n",
    "\n",
    "plt.figure(figsize=(9,9))\n",
    "sns.heatmap(cm, annot=True, fmt=\".0f\", linewidths=.5, square = True, cmap = 'Blues_r')\n",
    "plt.ylabel('Actual label')\n",
    "plt.xlabel('Predicted label')"
   ]
  },
  {
   "cell_type": "markdown",
   "id": "e846a773",
   "metadata": {},
   "source": [
    "<h1>Combine the results into one dataframe</h1>"
   ]
  },
  {
   "cell_type": "code",
   "execution_count": null,
   "id": "a4025362",
   "metadata": {},
   "outputs": [],
   "source": [
    "columns = ['KMeans', 'AglomerativeClustering', 'OPTICS', 'Birch', 'DBScan']\n",
    "rows = ['Rand index',\n",
    "        'Mutual Information based scores',\n",
    "        'Homogeneity',\n",
    "        'Completeness',\n",
    "        'V-measure',\n",
    "        'Fowlkes-Mallows scores',\n",
    "        'Silhouette Coefficient',\n",
    "        'Calinski-Harabasz Index',\n",
    "        'Davies-Bouldin Index']\n",
    "results = pd.DataFrame([[  rand_score_kmeans,   rand_score_ac,   rand_score_optics,   rand_score_birch,   rand_score_dbscan], \n",
    "                        [  info_score_kmeans,   info_score_ac,   info_score_optics,   info_score_birch,   info_score_dbscan], \n",
    "                        [ homogeneity_kmeans,  homogeneity_ac,  homogeneity_optics,  homogeneity_birch,  homogeneity_dbscan],\n",
    "                        [completeness_kmeans, completeness_ac, completeness_optics, completeness_birch, completeness_dbscan],\n",
    "                        [   v_measure_kmeans,    v_measure_ac,    v_measure_optics,    v_measure_birch,    v_measure_dbscan],\n",
    "                        [          fm_kmeans,           fm_ac,           fm_optics,           fm_birch,           fm_dbscan],\n",
    "                        [  silhouette_kmeans,   silhouette_ac,   silhouette_optics,   silhouette_birch,   silhouette_dbscan],\n",
    "                        [          ch_kmeans,           ch_ac,           ch_optics,           ch_birch,           ch_dbscan],\n",
    "                        [          db_kmeans,           db_ac,          db_optics,            db_birch,          db_dbscan]], \n",
    "                       rows, columns)\n",
    "# transpose the DataFrame\n",
    "results = results.transpose()\n",
    "results"
   ]
  },
  {
   "cell_type": "markdown",
   "id": "780e14b9",
   "metadata": {},
   "source": [
    "<h1>Plotting bar plot for each result</h1>"
   ]
  },
  {
   "cell_type": "markdown",
   "id": "8fea69af",
   "metadata": {},
   "source": [
    "<h2>Rand index</h2>"
   ]
  },
  {
   "cell_type": "code",
   "execution_count": null,
   "id": "f0aad4c9",
   "metadata": {},
   "outputs": [],
   "source": [
    "ax = results['Rand index'].plot.bar()"
   ]
  },
  {
   "cell_type": "markdown",
   "id": "00a909ff",
   "metadata": {},
   "source": [
    "<h2>Mutual Information based scores</h2>"
   ]
  },
  {
   "cell_type": "code",
   "execution_count": null,
   "id": "bf68f445",
   "metadata": {},
   "outputs": [],
   "source": [
    "ax = results['Mutual Information based scores'].plot.bar()"
   ]
  },
  {
   "cell_type": "markdown",
   "id": "30ff8663",
   "metadata": {},
   "source": [
    "<h2>Homogeneity</h2>"
   ]
  },
  {
   "cell_type": "code",
   "execution_count": null,
   "id": "90974da5",
   "metadata": {},
   "outputs": [],
   "source": [
    "ax = results['Homogeneity'].plot.bar()"
   ]
  },
  {
   "cell_type": "markdown",
   "id": "bd36e5cf",
   "metadata": {},
   "source": [
    "<h2>Completeness</h2>"
   ]
  },
  {
   "cell_type": "code",
   "execution_count": null,
   "id": "8a3a4144",
   "metadata": {},
   "outputs": [],
   "source": [
    "ax = results['Completeness'].plot.bar()"
   ]
  },
  {
   "cell_type": "markdown",
   "id": "e306e45e",
   "metadata": {},
   "source": [
    "<h2>V-measure</h2>"
   ]
  },
  {
   "cell_type": "code",
   "execution_count": null,
   "id": "bc5d3a32",
   "metadata": {},
   "outputs": [],
   "source": [
    "ax = results['V-measure'].plot.bar()"
   ]
  },
  {
   "cell_type": "markdown",
   "id": "6b5c0c02",
   "metadata": {},
   "source": [
    "<h2>Fowlkes-Mallows scores</h2>"
   ]
  },
  {
   "cell_type": "code",
   "execution_count": null,
   "id": "62b39529",
   "metadata": {},
   "outputs": [],
   "source": [
    "ax = results['Fowlkes-Mallows scores'].plot.bar()"
   ]
  },
  {
   "cell_type": "markdown",
   "id": "88371186",
   "metadata": {},
   "source": [
    "<h2>Silhouette Coefficient</h2>"
   ]
  },
  {
   "cell_type": "code",
   "execution_count": null,
   "id": "13834be7",
   "metadata": {},
   "outputs": [],
   "source": [
    "ax = results['Silhouette Coefficient'].plot.bar()"
   ]
  },
  {
   "cell_type": "markdown",
   "id": "5017110f",
   "metadata": {},
   "source": [
    "<h2>Calinski-Harabasz Index</h2>"
   ]
  },
  {
   "cell_type": "code",
   "execution_count": null,
   "id": "8de8030c",
   "metadata": {},
   "outputs": [],
   "source": [
    "ax = results['Calinski-Harabasz Index'].plot.bar()"
   ]
  },
  {
   "cell_type": "markdown",
   "id": "3ae38952",
   "metadata": {},
   "source": [
    "<h2>Davies-Bouldin Index</h2>"
   ]
  },
  {
   "cell_type": "code",
   "execution_count": null,
   "id": "931c9251",
   "metadata": {},
   "outputs": [],
   "source": [
    "ax = results['Davies-Bouldin Index'].plot.bar()"
   ]
  },
  {
   "cell_type": "code",
   "execution_count": null,
   "id": "4b517056",
   "metadata": {},
   "outputs": [],
   "source": []
  }
 ],
 "metadata": {
  "kernelspec": {
   "display_name": "Python 3 (ipykernel)",
   "language": "python",
   "name": "python3"
  },
  "language_info": {
   "codemirror_mode": {
    "name": "ipython",
    "version": 3
   },
   "file_extension": ".py",
   "mimetype": "text/x-python",
   "name": "python",
   "nbconvert_exporter": "python",
   "pygments_lexer": "ipython3",
   "version": "3.9.12"
  }
 },
 "nbformat": 4,
 "nbformat_minor": 5
}
